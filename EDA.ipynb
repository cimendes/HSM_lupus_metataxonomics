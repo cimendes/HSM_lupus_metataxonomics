{
 "cells": [
  {
   "cell_type": "markdown",
   "id": "3013af63",
   "metadata": {},
   "source": [
    "# HSM Lupus patient cohort metataxonomics analysis"
   ]
  },
  {
   "cell_type": "code",
   "execution_count": 17,
   "id": "5b2f92c9",
   "metadata": {},
   "outputs": [],
   "source": [
    "# packages\n",
    "import matplotlib.pyplot as plt\n",
    "plt.style.use('classic')\n",
    "%matplotlib inline\n",
    "import numpy as np\n",
    "import pandas as pd\n",
    "\n",
    "from matplotlib.patches import Patch\n",
    "from matplotlib.lines import Line2D\n",
    "import seaborn as sns\n",
    "\n",
    "import plotly.graph_objects as go\n",
    "from plotly.subplots import make_subplots\n",
    "from plotly.offline import plot"
   ]
  },
  {
   "cell_type": "markdown",
   "id": "f83650da",
   "metadata": {},
   "source": [
    "## Import data"
   ]
  },
  {
   "cell_type": "code",
   "execution_count": 2,
   "id": "31554c7f",
   "metadata": {},
   "outputs": [],
   "source": [
    "data = \"data/16S_IGC_2021 - Metadata March 2022.csv\""
   ]
  },
  {
   "cell_type": "code",
   "execution_count": 3,
   "id": "3ed91bdd",
   "metadata": {},
   "outputs": [
    {
     "data": {
      "text/html": [
       "<div>\n",
       "<style scoped>\n",
       "    .dataframe tbody tr th:only-of-type {\n",
       "        vertical-align: middle;\n",
       "    }\n",
       "\n",
       "    .dataframe tbody tr th {\n",
       "        vertical-align: top;\n",
       "    }\n",
       "\n",
       "    .dataframe thead th {\n",
       "        text-align: right;\n",
       "    }\n",
       "</style>\n",
       "<table border=\"1\" class=\"dataframe\">\n",
       "  <thead>\n",
       "    <tr style=\"text-align: right;\">\n",
       "      <th></th>\n",
       "      <th>condition</th>\n",
       "      <th>gender</th>\n",
       "      <th>ethnicity</th>\n",
       "      <th>age_2_categories</th>\n",
       "      <th>age_5_categories</th>\n",
       "      <th>age_diagnosis_2_categories</th>\n",
       "      <th>age_diagnosis_5_categories</th>\n",
       "      <th>time_since_diagnosis_2_categories</th>\n",
       "      <th>time_since_diagnosis_5_categories</th>\n",
       "      <th>lupus_nephritis</th>\n",
       "      <th>...</th>\n",
       "      <th>mediterranean_diet_3_categories</th>\n",
       "      <th>bristol_scale</th>\n",
       "      <th>Fasting</th>\n",
       "      <th>Sleep</th>\n",
       "      <th>fat_mass_bodpod</th>\n",
       "      <th>fat_mass_BIA</th>\n",
       "      <th>waist_circumference</th>\n",
       "      <th>BMI</th>\n",
       "      <th>waist_to_hip</th>\n",
       "      <th>hip_to_hight</th>\n",
       "    </tr>\n",
       "    <tr>\n",
       "      <th>sample-id</th>\n",
       "      <th></th>\n",
       "      <th></th>\n",
       "      <th></th>\n",
       "      <th></th>\n",
       "      <th></th>\n",
       "      <th></th>\n",
       "      <th></th>\n",
       "      <th></th>\n",
       "      <th></th>\n",
       "      <th></th>\n",
       "      <th></th>\n",
       "      <th></th>\n",
       "      <th></th>\n",
       "      <th></th>\n",
       "      <th></th>\n",
       "      <th></th>\n",
       "      <th></th>\n",
       "      <th></th>\n",
       "      <th></th>\n",
       "      <th></th>\n",
       "      <th></th>\n",
       "    </tr>\n",
       "  </thead>\n",
       "  <tbody>\n",
       "    <tr>\n",
       "      <th>C1</th>\n",
       "      <td>Sick</td>\n",
       "      <td>0</td>\n",
       "      <td>1</td>\n",
       "      <td>1</td>\n",
       "      <td>2</td>\n",
       "      <td>1</td>\n",
       "      <td>2</td>\n",
       "      <td>1</td>\n",
       "      <td>1</td>\n",
       "      <td>0</td>\n",
       "      <td>...</td>\n",
       "      <td>2</td>\n",
       "      <td>3</td>\n",
       "      <td>2</td>\n",
       "      <td>2</td>\n",
       "      <td>5</td>\n",
       "      <td>4</td>\n",
       "      <td>1</td>\n",
       "      <td>1</td>\n",
       "      <td>NaN</td>\n",
       "      <td>1</td>\n",
       "    </tr>\n",
       "    <tr>\n",
       "      <th>C11</th>\n",
       "      <td>Healthy</td>\n",
       "      <td>0</td>\n",
       "      <td>1</td>\n",
       "      <td>2</td>\n",
       "      <td>3</td>\n",
       "      <td>Not Applicable</td>\n",
       "      <td>Not Applicable</td>\n",
       "      <td>Not Applicable</td>\n",
       "      <td>Not Applicable</td>\n",
       "      <td>Not Applicable</td>\n",
       "      <td>...</td>\n",
       "      <td>3</td>\n",
       "      <td>2</td>\n",
       "      <td>2</td>\n",
       "      <td>2</td>\n",
       "      <td>NaN</td>\n",
       "      <td>NaN</td>\n",
       "      <td>NaN</td>\n",
       "      <td>NaN</td>\n",
       "      <td>NaN</td>\n",
       "      <td>NaN</td>\n",
       "    </tr>\n",
       "    <tr>\n",
       "      <th>C12</th>\n",
       "      <td>Healthy</td>\n",
       "      <td>1</td>\n",
       "      <td>1</td>\n",
       "      <td>2</td>\n",
       "      <td>3</td>\n",
       "      <td>Not Applicable</td>\n",
       "      <td>Not Applicable</td>\n",
       "      <td>Not Applicable</td>\n",
       "      <td>Not Applicable</td>\n",
       "      <td>Not Applicable</td>\n",
       "      <td>...</td>\n",
       "      <td>3</td>\n",
       "      <td>4</td>\n",
       "      <td>1</td>\n",
       "      <td>1</td>\n",
       "      <td>3</td>\n",
       "      <td>3</td>\n",
       "      <td>1</td>\n",
       "      <td>1</td>\n",
       "      <td>1</td>\n",
       "      <td>1</td>\n",
       "    </tr>\n",
       "    <tr>\n",
       "      <th>C13</th>\n",
       "      <td>Healthy</td>\n",
       "      <td>0</td>\n",
       "      <td>1</td>\n",
       "      <td>2</td>\n",
       "      <td>3</td>\n",
       "      <td>Not Applicable</td>\n",
       "      <td>Not Applicable</td>\n",
       "      <td>Not Applicable</td>\n",
       "      <td>Not Applicable</td>\n",
       "      <td>Not Applicable</td>\n",
       "      <td>...</td>\n",
       "      <td>2</td>\n",
       "      <td>4</td>\n",
       "      <td>1</td>\n",
       "      <td>1</td>\n",
       "      <td>4</td>\n",
       "      <td>4</td>\n",
       "      <td>1</td>\n",
       "      <td>0</td>\n",
       "      <td>1</td>\n",
       "      <td>1</td>\n",
       "    </tr>\n",
       "    <tr>\n",
       "      <th>C14</th>\n",
       "      <td>Healthy</td>\n",
       "      <td>0</td>\n",
       "      <td>1</td>\n",
       "      <td>2</td>\n",
       "      <td>3</td>\n",
       "      <td>Not Applicable</td>\n",
       "      <td>Not Applicable</td>\n",
       "      <td>Not Applicable</td>\n",
       "      <td>Not Applicable</td>\n",
       "      <td>Not Applicable</td>\n",
       "      <td>...</td>\n",
       "      <td>2</td>\n",
       "      <td>4</td>\n",
       "      <td>1</td>\n",
       "      <td>2</td>\n",
       "      <td>2</td>\n",
       "      <td>3</td>\n",
       "      <td>1</td>\n",
       "      <td>1</td>\n",
       "      <td>1</td>\n",
       "      <td>1</td>\n",
       "    </tr>\n",
       "    <tr>\n",
       "      <th>C15</th>\n",
       "      <td>Healthy</td>\n",
       "      <td>0</td>\n",
       "      <td>1</td>\n",
       "      <td>2</td>\n",
       "      <td>3</td>\n",
       "      <td>Not Applicable</td>\n",
       "      <td>Not Applicable</td>\n",
       "      <td>Not Applicable</td>\n",
       "      <td>Not Applicable</td>\n",
       "      <td>Not Applicable</td>\n",
       "      <td>...</td>\n",
       "      <td>2</td>\n",
       "      <td>4</td>\n",
       "      <td>2</td>\n",
       "      <td>1</td>\n",
       "      <td>2</td>\n",
       "      <td>3</td>\n",
       "      <td>1</td>\n",
       "      <td>1</td>\n",
       "      <td>1</td>\n",
       "      <td>1</td>\n",
       "    </tr>\n",
       "    <tr>\n",
       "      <th>C2</th>\n",
       "      <td>Healthy</td>\n",
       "      <td>0</td>\n",
       "      <td>1</td>\n",
       "      <td>2</td>\n",
       "      <td>3</td>\n",
       "      <td>Not Applicable</td>\n",
       "      <td>Not Applicable</td>\n",
       "      <td>Not Applicable</td>\n",
       "      <td>Not Applicable</td>\n",
       "      <td>Not Applicable</td>\n",
       "      <td>...</td>\n",
       "      <td>2</td>\n",
       "      <td>4</td>\n",
       "      <td>1</td>\n",
       "      <td>1</td>\n",
       "      <td>4</td>\n",
       "      <td>4</td>\n",
       "      <td>1</td>\n",
       "      <td>1</td>\n",
       "      <td>NaN</td>\n",
       "      <td>1</td>\n",
       "    </tr>\n",
       "    <tr>\n",
       "      <th>C3</th>\n",
       "      <td>Healthy</td>\n",
       "      <td>0</td>\n",
       "      <td>1</td>\n",
       "      <td>2</td>\n",
       "      <td>3</td>\n",
       "      <td>Not Applicable</td>\n",
       "      <td>Not Applicable</td>\n",
       "      <td>Not Applicable</td>\n",
       "      <td>Not Applicable</td>\n",
       "      <td>Not Applicable</td>\n",
       "      <td>...</td>\n",
       "      <td>2</td>\n",
       "      <td>4</td>\n",
       "      <td>1</td>\n",
       "      <td>1</td>\n",
       "      <td>2</td>\n",
       "      <td>1</td>\n",
       "      <td>2</td>\n",
       "      <td>2</td>\n",
       "      <td>1</td>\n",
       "      <td>2</td>\n",
       "    </tr>\n",
       "    <tr>\n",
       "      <th>C5</th>\n",
       "      <td>Healthy</td>\n",
       "      <td>0</td>\n",
       "      <td>1</td>\n",
       "      <td>2</td>\n",
       "      <td>3</td>\n",
       "      <td>Not Applicable</td>\n",
       "      <td>Not Applicable</td>\n",
       "      <td>Not Applicable</td>\n",
       "      <td>Not Applicable</td>\n",
       "      <td>Not Applicable</td>\n",
       "      <td>...</td>\n",
       "      <td>3</td>\n",
       "      <td>4</td>\n",
       "      <td>2</td>\n",
       "      <td>2</td>\n",
       "      <td>3</td>\n",
       "      <td>3</td>\n",
       "      <td>1</td>\n",
       "      <td>1</td>\n",
       "      <td>1</td>\n",
       "      <td>1</td>\n",
       "    </tr>\n",
       "    <tr>\n",
       "      <th>C6</th>\n",
       "      <td>Healthy</td>\n",
       "      <td>0</td>\n",
       "      <td>1</td>\n",
       "      <td>2</td>\n",
       "      <td>3</td>\n",
       "      <td>Not Applicable</td>\n",
       "      <td>Not Applicable</td>\n",
       "      <td>Not Applicable</td>\n",
       "      <td>Not Applicable</td>\n",
       "      <td>Not Applicable</td>\n",
       "      <td>...</td>\n",
       "      <td>3</td>\n",
       "      <td>4</td>\n",
       "      <td>2</td>\n",
       "      <td>1</td>\n",
       "      <td>3</td>\n",
       "      <td>2</td>\n",
       "      <td>1</td>\n",
       "      <td>1</td>\n",
       "      <td>1</td>\n",
       "      <td>1</td>\n",
       "    </tr>\n",
       "    <tr>\n",
       "      <th>C7</th>\n",
       "      <td>Healthy</td>\n",
       "      <td>0</td>\n",
       "      <td>1</td>\n",
       "      <td>2</td>\n",
       "      <td>3</td>\n",
       "      <td>Not Applicable</td>\n",
       "      <td>Not Applicable</td>\n",
       "      <td>Not Applicable</td>\n",
       "      <td>Not Applicable</td>\n",
       "      <td>Not Applicable</td>\n",
       "      <td>...</td>\n",
       "      <td>3</td>\n",
       "      <td>4</td>\n",
       "      <td>1</td>\n",
       "      <td>1</td>\n",
       "      <td>4</td>\n",
       "      <td>4</td>\n",
       "      <td>1</td>\n",
       "      <td>0</td>\n",
       "      <td>1</td>\n",
       "      <td>1</td>\n",
       "    </tr>\n",
       "    <tr>\n",
       "      <th>C8</th>\n",
       "      <td>Healthy</td>\n",
       "      <td>0</td>\n",
       "      <td>1</td>\n",
       "      <td>2</td>\n",
       "      <td>3</td>\n",
       "      <td>Not Applicable</td>\n",
       "      <td>Not Applicable</td>\n",
       "      <td>Not Applicable</td>\n",
       "      <td>Not Applicable</td>\n",
       "      <td>Not Applicable</td>\n",
       "      <td>...</td>\n",
       "      <td>3</td>\n",
       "      <td>4</td>\n",
       "      <td>2</td>\n",
       "      <td>2</td>\n",
       "      <td>2</td>\n",
       "      <td>3</td>\n",
       "      <td>1</td>\n",
       "      <td>2</td>\n",
       "      <td>1</td>\n",
       "      <td>1</td>\n",
       "    </tr>\n",
       "    <tr>\n",
       "      <th>C9</th>\n",
       "      <td>Healthy</td>\n",
       "      <td>1</td>\n",
       "      <td>1</td>\n",
       "      <td>2</td>\n",
       "      <td>3</td>\n",
       "      <td>Not Applicable</td>\n",
       "      <td>Not Applicable</td>\n",
       "      <td>Not Applicable</td>\n",
       "      <td>Not Applicable</td>\n",
       "      <td>Not Applicable</td>\n",
       "      <td>...</td>\n",
       "      <td>1</td>\n",
       "      <td>4</td>\n",
       "      <td>1</td>\n",
       "      <td>1</td>\n",
       "      <td>2</td>\n",
       "      <td>2</td>\n",
       "      <td>1</td>\n",
       "      <td>1</td>\n",
       "      <td>1</td>\n",
       "      <td>1</td>\n",
       "    </tr>\n",
       "    <tr>\n",
       "      <th>L1</th>\n",
       "      <td>Sick</td>\n",
       "      <td>1</td>\n",
       "      <td>1</td>\n",
       "      <td>2</td>\n",
       "      <td>3</td>\n",
       "      <td>NaN</td>\n",
       "      <td>NaN</td>\n",
       "      <td>2</td>\n",
       "      <td>3</td>\n",
       "      <td>0</td>\n",
       "      <td>...</td>\n",
       "      <td>2</td>\n",
       "      <td>NaN</td>\n",
       "      <td>2</td>\n",
       "      <td>2</td>\n",
       "      <td>3</td>\n",
       "      <td>3</td>\n",
       "      <td>2</td>\n",
       "      <td>1</td>\n",
       "      <td>NaN</td>\n",
       "      <td>2</td>\n",
       "    </tr>\n",
       "    <tr>\n",
       "      <th>L10</th>\n",
       "      <td>Sick</td>\n",
       "      <td>0</td>\n",
       "      <td>2</td>\n",
       "      <td>2</td>\n",
       "      <td>3</td>\n",
       "      <td>2</td>\n",
       "      <td>3</td>\n",
       "      <td>1</td>\n",
       "      <td>2</td>\n",
       "      <td>1</td>\n",
       "      <td>...</td>\n",
       "      <td>1</td>\n",
       "      <td>3</td>\n",
       "      <td>1</td>\n",
       "      <td>1</td>\n",
       "      <td>4</td>\n",
       "      <td>3</td>\n",
       "      <td>1</td>\n",
       "      <td>1</td>\n",
       "      <td>1</td>\n",
       "      <td>1</td>\n",
       "    </tr>\n",
       "    <tr>\n",
       "      <th>L11</th>\n",
       "      <td>Sick</td>\n",
       "      <td>0</td>\n",
       "      <td>4</td>\n",
       "      <td>1</td>\n",
       "      <td>2</td>\n",
       "      <td>1</td>\n",
       "      <td>2</td>\n",
       "      <td>2</td>\n",
       "      <td>3</td>\n",
       "      <td>0</td>\n",
       "      <td>...</td>\n",
       "      <td>2</td>\n",
       "      <td>4</td>\n",
       "      <td>1</td>\n",
       "      <td>2</td>\n",
       "      <td>3</td>\n",
       "      <td>3</td>\n",
       "      <td>1</td>\n",
       "      <td>1</td>\n",
       "      <td>NaN</td>\n",
       "      <td>1</td>\n",
       "    </tr>\n",
       "    <tr>\n",
       "      <th>L12</th>\n",
       "      <td>Sick</td>\n",
       "      <td>0</td>\n",
       "      <td>1</td>\n",
       "      <td>2</td>\n",
       "      <td>3</td>\n",
       "      <td>2</td>\n",
       "      <td>3</td>\n",
       "      <td>2</td>\n",
       "      <td>5</td>\n",
       "      <td>1</td>\n",
       "      <td>...</td>\n",
       "      <td>2</td>\n",
       "      <td>6</td>\n",
       "      <td>2</td>\n",
       "      <td>2</td>\n",
       "      <td>2</td>\n",
       "      <td>2</td>\n",
       "      <td>1</td>\n",
       "      <td>1</td>\n",
       "      <td>1</td>\n",
       "      <td>1</td>\n",
       "    </tr>\n",
       "    <tr>\n",
       "      <th>L13</th>\n",
       "      <td>Sick</td>\n",
       "      <td>0</td>\n",
       "      <td>1</td>\n",
       "      <td>1</td>\n",
       "      <td>2</td>\n",
       "      <td>1</td>\n",
       "      <td>1</td>\n",
       "      <td>2</td>\n",
       "      <td>3</td>\n",
       "      <td>0</td>\n",
       "      <td>...</td>\n",
       "      <td>1</td>\n",
       "      <td>1</td>\n",
       "      <td>2</td>\n",
       "      <td>2</td>\n",
       "      <td>1</td>\n",
       "      <td>2</td>\n",
       "      <td>3</td>\n",
       "      <td>3</td>\n",
       "      <td>NaN</td>\n",
       "      <td>2</td>\n",
       "    </tr>\n",
       "    <tr>\n",
       "      <th>L14</th>\n",
       "      <td>Sick</td>\n",
       "      <td>0</td>\n",
       "      <td>1</td>\n",
       "      <td>2</td>\n",
       "      <td>3</td>\n",
       "      <td>2</td>\n",
       "      <td>3</td>\n",
       "      <td>2</td>\n",
       "      <td>5</td>\n",
       "      <td>1</td>\n",
       "      <td>...</td>\n",
       "      <td>1</td>\n",
       "      <td>1</td>\n",
       "      <td>1</td>\n",
       "      <td>2</td>\n",
       "      <td>1</td>\n",
       "      <td>1</td>\n",
       "      <td>3</td>\n",
       "      <td>3</td>\n",
       "      <td>2</td>\n",
       "      <td>2</td>\n",
       "    </tr>\n",
       "    <tr>\n",
       "      <th>L15</th>\n",
       "      <td>Sick</td>\n",
       "      <td>0</td>\n",
       "      <td>3</td>\n",
       "      <td>2</td>\n",
       "      <td>3</td>\n",
       "      <td>2</td>\n",
       "      <td>3</td>\n",
       "      <td>2</td>\n",
       "      <td>3</td>\n",
       "      <td>1</td>\n",
       "      <td>...</td>\n",
       "      <td>2</td>\n",
       "      <td>7</td>\n",
       "      <td>2</td>\n",
       "      <td>2</td>\n",
       "      <td>4</td>\n",
       "      <td>4</td>\n",
       "      <td>1</td>\n",
       "      <td>1</td>\n",
       "      <td>1</td>\n",
       "      <td>1</td>\n",
       "    </tr>\n",
       "    <tr>\n",
       "      <th>L16</th>\n",
       "      <td>Sick</td>\n",
       "      <td>0</td>\n",
       "      <td>1</td>\n",
       "      <td>2</td>\n",
       "      <td>3</td>\n",
       "      <td>2</td>\n",
       "      <td>3</td>\n",
       "      <td>2</td>\n",
       "      <td>3</td>\n",
       "      <td>1</td>\n",
       "      <td>...</td>\n",
       "      <td>1</td>\n",
       "      <td>3</td>\n",
       "      <td>1</td>\n",
       "      <td>1</td>\n",
       "      <td>2</td>\n",
       "      <td>2</td>\n",
       "      <td>3</td>\n",
       "      <td>2</td>\n",
       "      <td>1</td>\n",
       "      <td>2</td>\n",
       "    </tr>\n",
       "    <tr>\n",
       "      <th>L17</th>\n",
       "      <td>Sick</td>\n",
       "      <td>0</td>\n",
       "      <td>6</td>\n",
       "      <td>2</td>\n",
       "      <td>3</td>\n",
       "      <td>1</td>\n",
       "      <td>1</td>\n",
       "      <td>2</td>\n",
       "      <td>5</td>\n",
       "      <td>1</td>\n",
       "      <td>...</td>\n",
       "      <td>1</td>\n",
       "      <td>4</td>\n",
       "      <td>1</td>\n",
       "      <td>1</td>\n",
       "      <td>1</td>\n",
       "      <td>2</td>\n",
       "      <td>3</td>\n",
       "      <td>2</td>\n",
       "      <td>1</td>\n",
       "      <td>2</td>\n",
       "    </tr>\n",
       "    <tr>\n",
       "      <th>L18</th>\n",
       "      <td>Sick</td>\n",
       "      <td>0</td>\n",
       "      <td>1</td>\n",
       "      <td>2</td>\n",
       "      <td>3</td>\n",
       "      <td>2</td>\n",
       "      <td>3</td>\n",
       "      <td>2</td>\n",
       "      <td>4</td>\n",
       "      <td>1</td>\n",
       "      <td>...</td>\n",
       "      <td>2</td>\n",
       "      <td>4</td>\n",
       "      <td>1</td>\n",
       "      <td>1</td>\n",
       "      <td>2</td>\n",
       "      <td>3</td>\n",
       "      <td>2</td>\n",
       "      <td>1</td>\n",
       "      <td>2</td>\n",
       "      <td>2</td>\n",
       "    </tr>\n",
       "    <tr>\n",
       "      <th>L19</th>\n",
       "      <td>Sick</td>\n",
       "      <td>0</td>\n",
       "      <td>1</td>\n",
       "      <td>2</td>\n",
       "      <td>3</td>\n",
       "      <td>1</td>\n",
       "      <td>1</td>\n",
       "      <td>2</td>\n",
       "      <td>5</td>\n",
       "      <td>1</td>\n",
       "      <td>...</td>\n",
       "      <td>1</td>\n",
       "      <td>3</td>\n",
       "      <td>1</td>\n",
       "      <td>2</td>\n",
       "      <td>1</td>\n",
       "      <td>1</td>\n",
       "      <td>3</td>\n",
       "      <td>3</td>\n",
       "      <td>2</td>\n",
       "      <td>2</td>\n",
       "    </tr>\n",
       "    <tr>\n",
       "      <th>L2</th>\n",
       "      <td>Sick</td>\n",
       "      <td>1</td>\n",
       "      <td>1</td>\n",
       "      <td>1</td>\n",
       "      <td>2</td>\n",
       "      <td>1</td>\n",
       "      <td>2</td>\n",
       "      <td>2</td>\n",
       "      <td>3</td>\n",
       "      <td>1</td>\n",
       "      <td>...</td>\n",
       "      <td>2</td>\n",
       "      <td>1</td>\n",
       "      <td>1</td>\n",
       "      <td>1</td>\n",
       "      <td>2</td>\n",
       "      <td>2</td>\n",
       "      <td>2</td>\n",
       "      <td>1</td>\n",
       "      <td>NaN</td>\n",
       "      <td>2</td>\n",
       "    </tr>\n",
       "    <tr>\n",
       "      <th>L20</th>\n",
       "      <td>Sick</td>\n",
       "      <td>0</td>\n",
       "      <td>1</td>\n",
       "      <td>1</td>\n",
       "      <td>1</td>\n",
       "      <td>1</td>\n",
       "      <td>1</td>\n",
       "      <td>1</td>\n",
       "      <td>1</td>\n",
       "      <td>0</td>\n",
       "      <td>...</td>\n",
       "      <td>3</td>\n",
       "      <td>4</td>\n",
       "      <td>2</td>\n",
       "      <td>2</td>\n",
       "      <td>2</td>\n",
       "      <td>3</td>\n",
       "      <td>3</td>\n",
       "      <td>3</td>\n",
       "      <td>NaN</td>\n",
       "      <td>2</td>\n",
       "    </tr>\n",
       "    <tr>\n",
       "      <th>L21</th>\n",
       "      <td>Sick</td>\n",
       "      <td>1</td>\n",
       "      <td>1</td>\n",
       "      <td>2</td>\n",
       "      <td>3</td>\n",
       "      <td>2</td>\n",
       "      <td>3</td>\n",
       "      <td>2</td>\n",
       "      <td>4</td>\n",
       "      <td>1</td>\n",
       "      <td>...</td>\n",
       "      <td>1</td>\n",
       "      <td>6</td>\n",
       "      <td>1</td>\n",
       "      <td>2</td>\n",
       "      <td>NaN</td>\n",
       "      <td>NaN</td>\n",
       "      <td>1</td>\n",
       "      <td>1</td>\n",
       "      <td>1</td>\n",
       "      <td>1</td>\n",
       "    </tr>\n",
       "    <tr>\n",
       "      <th>L22</th>\n",
       "      <td>Sick</td>\n",
       "      <td>1</td>\n",
       "      <td>3</td>\n",
       "      <td>2</td>\n",
       "      <td>3</td>\n",
       "      <td>2</td>\n",
       "      <td>3</td>\n",
       "      <td>2</td>\n",
       "      <td>4</td>\n",
       "      <td>0</td>\n",
       "      <td>...</td>\n",
       "      <td>1</td>\n",
       "      <td>6</td>\n",
       "      <td>2</td>\n",
       "      <td>1</td>\n",
       "      <td>NaN</td>\n",
       "      <td>NaN</td>\n",
       "      <td>1</td>\n",
       "      <td>1</td>\n",
       "      <td>1</td>\n",
       "      <td>1</td>\n",
       "    </tr>\n",
       "    <tr>\n",
       "      <th>L23</th>\n",
       "      <td>Sick</td>\n",
       "      <td>0</td>\n",
       "      <td>1</td>\n",
       "      <td>2</td>\n",
       "      <td>3</td>\n",
       "      <td>2</td>\n",
       "      <td>3</td>\n",
       "      <td>2</td>\n",
       "      <td>5</td>\n",
       "      <td>0</td>\n",
       "      <td>...</td>\n",
       "      <td>1</td>\n",
       "      <td>4</td>\n",
       "      <td>1</td>\n",
       "      <td>2</td>\n",
       "      <td>NaN</td>\n",
       "      <td>1</td>\n",
       "      <td>2</td>\n",
       "      <td>2</td>\n",
       "      <td>1</td>\n",
       "      <td>2</td>\n",
       "    </tr>\n",
       "    <tr>\n",
       "      <th>L24</th>\n",
       "      <td>Sick</td>\n",
       "      <td>0</td>\n",
       "      <td>3</td>\n",
       "      <td>2</td>\n",
       "      <td>3</td>\n",
       "      <td>1</td>\n",
       "      <td>2</td>\n",
       "      <td>2</td>\n",
       "      <td>5</td>\n",
       "      <td>1</td>\n",
       "      <td>...</td>\n",
       "      <td>1</td>\n",
       "      <td>1</td>\n",
       "      <td>2</td>\n",
       "      <td>2</td>\n",
       "      <td>2</td>\n",
       "      <td>4</td>\n",
       "      <td>1</td>\n",
       "      <td>1</td>\n",
       "      <td>1</td>\n",
       "      <td>1</td>\n",
       "    </tr>\n",
       "    <tr>\n",
       "      <th>L27</th>\n",
       "      <td>Sick</td>\n",
       "      <td>0</td>\n",
       "      <td>1</td>\n",
       "      <td>2</td>\n",
       "      <td>3</td>\n",
       "      <td>NaN</td>\n",
       "      <td>NaN</td>\n",
       "      <td>NaN</td>\n",
       "      <td>NaN</td>\n",
       "      <td>0</td>\n",
       "      <td>...</td>\n",
       "      <td>2</td>\n",
       "      <td>2</td>\n",
       "      <td>1</td>\n",
       "      <td>1</td>\n",
       "      <td>3</td>\n",
       "      <td>3</td>\n",
       "      <td>1</td>\n",
       "      <td>1</td>\n",
       "      <td>1</td>\n",
       "      <td>1</td>\n",
       "    </tr>\n",
       "    <tr>\n",
       "      <th>L3</th>\n",
       "      <td>Sick</td>\n",
       "      <td>0</td>\n",
       "      <td>1</td>\n",
       "      <td>2</td>\n",
       "      <td>3</td>\n",
       "      <td>NaN</td>\n",
       "      <td>NaN</td>\n",
       "      <td>2</td>\n",
       "      <td>3</td>\n",
       "      <td>1</td>\n",
       "      <td>...</td>\n",
       "      <td>3</td>\n",
       "      <td>4</td>\n",
       "      <td>1</td>\n",
       "      <td>2</td>\n",
       "      <td>5</td>\n",
       "      <td>4</td>\n",
       "      <td>1</td>\n",
       "      <td>1</td>\n",
       "      <td>NaN</td>\n",
       "      <td>2</td>\n",
       "    </tr>\n",
       "    <tr>\n",
       "      <th>L31</th>\n",
       "      <td>Sick</td>\n",
       "      <td>1</td>\n",
       "      <td>1</td>\n",
       "      <td>2</td>\n",
       "      <td>3</td>\n",
       "      <td>2</td>\n",
       "      <td>3</td>\n",
       "      <td>2</td>\n",
       "      <td>5</td>\n",
       "      <td>1</td>\n",
       "      <td>...</td>\n",
       "      <td>1</td>\n",
       "      <td>6</td>\n",
       "      <td>1</td>\n",
       "      <td>2</td>\n",
       "      <td>1</td>\n",
       "      <td>1</td>\n",
       "      <td>2</td>\n",
       "      <td>2</td>\n",
       "      <td>2</td>\n",
       "      <td>2</td>\n",
       "    </tr>\n",
       "    <tr>\n",
       "      <th>L32</th>\n",
       "      <td>Sick</td>\n",
       "      <td>0</td>\n",
       "      <td>1</td>\n",
       "      <td>1</td>\n",
       "      <td>2</td>\n",
       "      <td>1</td>\n",
       "      <td>1</td>\n",
       "      <td>1</td>\n",
       "      <td>2</td>\n",
       "      <td>1</td>\n",
       "      <td>...</td>\n",
       "      <td>3</td>\n",
       "      <td>3</td>\n",
       "      <td>2</td>\n",
       "      <td>2</td>\n",
       "      <td>4</td>\n",
       "      <td>4</td>\n",
       "      <td>1</td>\n",
       "      <td>1</td>\n",
       "      <td>NaN</td>\n",
       "      <td>1</td>\n",
       "    </tr>\n",
       "    <tr>\n",
       "      <th>L35</th>\n",
       "      <td>Sick</td>\n",
       "      <td>0</td>\n",
       "      <td>1</td>\n",
       "      <td>1</td>\n",
       "      <td>2</td>\n",
       "      <td>1</td>\n",
       "      <td>1</td>\n",
       "      <td>2</td>\n",
       "      <td>5</td>\n",
       "      <td>1</td>\n",
       "      <td>...</td>\n",
       "      <td>2</td>\n",
       "      <td>5</td>\n",
       "      <td>NaN</td>\n",
       "      <td>NaN</td>\n",
       "      <td>3</td>\n",
       "      <td>2</td>\n",
       "      <td>1</td>\n",
       "      <td>1</td>\n",
       "      <td>1</td>\n",
       "      <td>1</td>\n",
       "    </tr>\n",
       "    <tr>\n",
       "      <th>L36</th>\n",
       "      <td>Sick</td>\n",
       "      <td>0</td>\n",
       "      <td>6</td>\n",
       "      <td>2</td>\n",
       "      <td>3</td>\n",
       "      <td>2</td>\n",
       "      <td>3</td>\n",
       "      <td>2</td>\n",
       "      <td>5</td>\n",
       "      <td>0</td>\n",
       "      <td>...</td>\n",
       "      <td>1</td>\n",
       "      <td>3</td>\n",
       "      <td>1</td>\n",
       "      <td>1</td>\n",
       "      <td>1</td>\n",
       "      <td>1</td>\n",
       "      <td>2</td>\n",
       "      <td>1</td>\n",
       "      <td>1</td>\n",
       "      <td>1</td>\n",
       "    </tr>\n",
       "    <tr>\n",
       "      <th>L37</th>\n",
       "      <td>Sick</td>\n",
       "      <td>0</td>\n",
       "      <td>6</td>\n",
       "      <td>2</td>\n",
       "      <td>3</td>\n",
       "      <td>2</td>\n",
       "      <td>3</td>\n",
       "      <td>2</td>\n",
       "      <td>5</td>\n",
       "      <td>0</td>\n",
       "      <td>...</td>\n",
       "      <td>1</td>\n",
       "      <td>5</td>\n",
       "      <td>2</td>\n",
       "      <td>2</td>\n",
       "      <td>1</td>\n",
       "      <td>1</td>\n",
       "      <td>3</td>\n",
       "      <td>3</td>\n",
       "      <td>2</td>\n",
       "      <td>2</td>\n",
       "    </tr>\n",
       "    <tr>\n",
       "      <th>L39</th>\n",
       "      <td>Sick</td>\n",
       "      <td>0</td>\n",
       "      <td>3</td>\n",
       "      <td>2</td>\n",
       "      <td>3</td>\n",
       "      <td>NaN</td>\n",
       "      <td>NaN</td>\n",
       "      <td>2</td>\n",
       "      <td>5</td>\n",
       "      <td>1</td>\n",
       "      <td>...</td>\n",
       "      <td>1</td>\n",
       "      <td>2</td>\n",
       "      <td>2</td>\n",
       "      <td>2</td>\n",
       "      <td>2</td>\n",
       "      <td>4</td>\n",
       "      <td>1</td>\n",
       "      <td>1</td>\n",
       "      <td>1</td>\n",
       "      <td>1</td>\n",
       "    </tr>\n",
       "    <tr>\n",
       "      <th>L4</th>\n",
       "      <td>Sick</td>\n",
       "      <td>0</td>\n",
       "      <td>1</td>\n",
       "      <td>1</td>\n",
       "      <td>2</td>\n",
       "      <td>1</td>\n",
       "      <td>2</td>\n",
       "      <td>1</td>\n",
       "      <td>1</td>\n",
       "      <td>1</td>\n",
       "      <td>...</td>\n",
       "      <td>2</td>\n",
       "      <td>4</td>\n",
       "      <td>2</td>\n",
       "      <td>2</td>\n",
       "      <td>2</td>\n",
       "      <td>2</td>\n",
       "      <td>2</td>\n",
       "      <td>2</td>\n",
       "      <td>NaN</td>\n",
       "      <td>2</td>\n",
       "    </tr>\n",
       "    <tr>\n",
       "      <th>L42</th>\n",
       "      <td>Sick</td>\n",
       "      <td>0</td>\n",
       "      <td>1</td>\n",
       "      <td>2</td>\n",
       "      <td>3</td>\n",
       "      <td>2</td>\n",
       "      <td>3</td>\n",
       "      <td>2</td>\n",
       "      <td>5</td>\n",
       "      <td>0</td>\n",
       "      <td>...</td>\n",
       "      <td>1</td>\n",
       "      <td>3</td>\n",
       "      <td>2</td>\n",
       "      <td>2</td>\n",
       "      <td>1</td>\n",
       "      <td>1</td>\n",
       "      <td>3</td>\n",
       "      <td>2</td>\n",
       "      <td>2</td>\n",
       "      <td>2</td>\n",
       "    </tr>\n",
       "    <tr>\n",
       "      <th>L5</th>\n",
       "      <td>Sick</td>\n",
       "      <td>0</td>\n",
       "      <td>1</td>\n",
       "      <td>1</td>\n",
       "      <td>2</td>\n",
       "      <td>1</td>\n",
       "      <td>1</td>\n",
       "      <td>2</td>\n",
       "      <td>3</td>\n",
       "      <td>1</td>\n",
       "      <td>...</td>\n",
       "      <td>2</td>\n",
       "      <td>2</td>\n",
       "      <td>2</td>\n",
       "      <td>2</td>\n",
       "      <td>3</td>\n",
       "      <td>4</td>\n",
       "      <td>1</td>\n",
       "      <td>1</td>\n",
       "      <td>NaN</td>\n",
       "      <td>1</td>\n",
       "    </tr>\n",
       "    <tr>\n",
       "      <th>L6</th>\n",
       "      <td>Sick</td>\n",
       "      <td>0</td>\n",
       "      <td>1</td>\n",
       "      <td>2</td>\n",
       "      <td>3</td>\n",
       "      <td>NaN</td>\n",
       "      <td>NaN</td>\n",
       "      <td>NaN</td>\n",
       "      <td>NaN</td>\n",
       "      <td>NaN</td>\n",
       "      <td>...</td>\n",
       "      <td>2</td>\n",
       "      <td>3</td>\n",
       "      <td>2</td>\n",
       "      <td>2</td>\n",
       "      <td>2</td>\n",
       "      <td>2</td>\n",
       "      <td>1</td>\n",
       "      <td>1</td>\n",
       "      <td>1</td>\n",
       "      <td>1</td>\n",
       "    </tr>\n",
       "    <tr>\n",
       "      <th>L7</th>\n",
       "      <td>Sick</td>\n",
       "      <td>0</td>\n",
       "      <td>1</td>\n",
       "      <td>2</td>\n",
       "      <td>3</td>\n",
       "      <td>2</td>\n",
       "      <td>3</td>\n",
       "      <td>2</td>\n",
       "      <td>3</td>\n",
       "      <td>1</td>\n",
       "      <td>...</td>\n",
       "      <td>1</td>\n",
       "      <td>3</td>\n",
       "      <td>1</td>\n",
       "      <td>1</td>\n",
       "      <td>3</td>\n",
       "      <td>4</td>\n",
       "      <td>1</td>\n",
       "      <td>1</td>\n",
       "      <td>1</td>\n",
       "      <td>1</td>\n",
       "    </tr>\n",
       "    <tr>\n",
       "      <th>L8</th>\n",
       "      <td>Sick</td>\n",
       "      <td>0</td>\n",
       "      <td>1</td>\n",
       "      <td>1</td>\n",
       "      <td>1</td>\n",
       "      <td>1</td>\n",
       "      <td>1</td>\n",
       "      <td>1</td>\n",
       "      <td>1</td>\n",
       "      <td>1</td>\n",
       "      <td>...</td>\n",
       "      <td>3</td>\n",
       "      <td>3</td>\n",
       "      <td>2</td>\n",
       "      <td>2</td>\n",
       "      <td>2</td>\n",
       "      <td>4</td>\n",
       "      <td>2</td>\n",
       "      <td>2</td>\n",
       "      <td>NaN</td>\n",
       "      <td>1</td>\n",
       "    </tr>\n",
       "  </tbody>\n",
       "</table>\n",
       "<p>44 rows × 30 columns</p>\n",
       "</div>"
      ],
      "text/plain": [
       "          condition gender ethnicity age_2_categories age_5_categories  \\\n",
       "sample-id                                                                \n",
       "C1             Sick      0         1                1                2   \n",
       "C11         Healthy      0         1                2                3   \n",
       "C12         Healthy      1         1                2                3   \n",
       "C13         Healthy      0         1                2                3   \n",
       "C14         Healthy      0         1                2                3   \n",
       "C15         Healthy      0         1                2                3   \n",
       "C2          Healthy      0         1                2                3   \n",
       "C3          Healthy      0         1                2                3   \n",
       "C5          Healthy      0         1                2                3   \n",
       "C6          Healthy      0         1                2                3   \n",
       "C7          Healthy      0         1                2                3   \n",
       "C8          Healthy      0         1                2                3   \n",
       "C9          Healthy      1         1                2                3   \n",
       "L1             Sick      1         1                2                3   \n",
       "L10            Sick      0         2                2                3   \n",
       "L11            Sick      0         4                1                2   \n",
       "L12            Sick      0         1                2                3   \n",
       "L13            Sick      0         1                1                2   \n",
       "L14            Sick      0         1                2                3   \n",
       "L15            Sick      0         3                2                3   \n",
       "L16            Sick      0         1                2                3   \n",
       "L17            Sick      0         6                2                3   \n",
       "L18            Sick      0         1                2                3   \n",
       "L19            Sick      0         1                2                3   \n",
       "L2             Sick      1         1                1                2   \n",
       "L20            Sick      0         1                1                1   \n",
       "L21            Sick      1         1                2                3   \n",
       "L22            Sick      1         3                2                3   \n",
       "L23            Sick      0         1                2                3   \n",
       "L24            Sick      0         3                2                3   \n",
       "L27            Sick      0         1                2                3   \n",
       "L3             Sick      0         1                2                3   \n",
       "L31            Sick      1         1                2                3   \n",
       "L32            Sick      0         1                1                2   \n",
       "L35            Sick      0         1                1                2   \n",
       "L36            Sick      0         6                2                3   \n",
       "L37            Sick      0         6                2                3   \n",
       "L39            Sick      0         3                2                3   \n",
       "L4             Sick      0         1                1                2   \n",
       "L42            Sick      0         1                2                3   \n",
       "L5             Sick      0         1                1                2   \n",
       "L6             Sick      0         1                2                3   \n",
       "L7             Sick      0         1                2                3   \n",
       "L8             Sick      0         1                1                1   \n",
       "\n",
       "          age_diagnosis_2_categories age_diagnosis_5_categories  \\\n",
       "sample-id                                                         \n",
       "C1                                 1                          2   \n",
       "C11                   Not Applicable             Not Applicable   \n",
       "C12                   Not Applicable             Not Applicable   \n",
       "C13                   Not Applicable             Not Applicable   \n",
       "C14                   Not Applicable             Not Applicable   \n",
       "C15                   Not Applicable             Not Applicable   \n",
       "C2                    Not Applicable             Not Applicable   \n",
       "C3                    Not Applicable             Not Applicable   \n",
       "C5                    Not Applicable             Not Applicable   \n",
       "C6                    Not Applicable             Not Applicable   \n",
       "C7                    Not Applicable             Not Applicable   \n",
       "C8                    Not Applicable             Not Applicable   \n",
       "C9                    Not Applicable             Not Applicable   \n",
       "L1                               NaN                        NaN   \n",
       "L10                                2                          3   \n",
       "L11                                1                          2   \n",
       "L12                                2                          3   \n",
       "L13                                1                          1   \n",
       "L14                                2                          3   \n",
       "L15                                2                          3   \n",
       "L16                                2                          3   \n",
       "L17                                1                          1   \n",
       "L18                                2                          3   \n",
       "L19                                1                          1   \n",
       "L2                                 1                          2   \n",
       "L20                                1                          1   \n",
       "L21                                2                          3   \n",
       "L22                                2                          3   \n",
       "L23                                2                          3   \n",
       "L24                                1                          2   \n",
       "L27                              NaN                        NaN   \n",
       "L3                               NaN                        NaN   \n",
       "L31                                2                          3   \n",
       "L32                                1                          1   \n",
       "L35                                1                          1   \n",
       "L36                                2                          3   \n",
       "L37                                2                          3   \n",
       "L39                              NaN                        NaN   \n",
       "L4                                 1                          2   \n",
       "L42                                2                          3   \n",
       "L5                                 1                          1   \n",
       "L6                               NaN                        NaN   \n",
       "L7                                 2                          3   \n",
       "L8                                 1                          1   \n",
       "\n",
       "          time_since_diagnosis_2_categories time_since_diagnosis_5_categories  \\\n",
       "sample-id                                                                       \n",
       "C1                                        1                                 1   \n",
       "C11                          Not Applicable                    Not Applicable   \n",
       "C12                          Not Applicable                    Not Applicable   \n",
       "C13                          Not Applicable                    Not Applicable   \n",
       "C14                          Not Applicable                    Not Applicable   \n",
       "C15                          Not Applicable                    Not Applicable   \n",
       "C2                           Not Applicable                    Not Applicable   \n",
       "C3                           Not Applicable                    Not Applicable   \n",
       "C5                           Not Applicable                    Not Applicable   \n",
       "C6                           Not Applicable                    Not Applicable   \n",
       "C7                           Not Applicable                    Not Applicable   \n",
       "C8                           Not Applicable                    Not Applicable   \n",
       "C9                           Not Applicable                    Not Applicable   \n",
       "L1                                        2                                 3   \n",
       "L10                                       1                                 2   \n",
       "L11                                       2                                 3   \n",
       "L12                                       2                                 5   \n",
       "L13                                       2                                 3   \n",
       "L14                                       2                                 5   \n",
       "L15                                       2                                 3   \n",
       "L16                                       2                                 3   \n",
       "L17                                       2                                 5   \n",
       "L18                                       2                                 4   \n",
       "L19                                       2                                 5   \n",
       "L2                                        2                                 3   \n",
       "L20                                       1                                 1   \n",
       "L21                                       2                                 4   \n",
       "L22                                       2                                 4   \n",
       "L23                                       2                                 5   \n",
       "L24                                       2                                 5   \n",
       "L27                                     NaN                               NaN   \n",
       "L3                                        2                                 3   \n",
       "L31                                       2                                 5   \n",
       "L32                                       1                                 2   \n",
       "L35                                       2                                 5   \n",
       "L36                                       2                                 5   \n",
       "L37                                       2                                 5   \n",
       "L39                                       2                                 5   \n",
       "L4                                        1                                 1   \n",
       "L42                                       2                                 5   \n",
       "L5                                        2                                 3   \n",
       "L6                                      NaN                               NaN   \n",
       "L7                                        2                                 3   \n",
       "L8                                        1                                 1   \n",
       "\n",
       "          lupus_nephritis  ... mediterranean_diet_3_categories bristol_scale  \\\n",
       "sample-id                  ...                                                 \n",
       "C1                      0  ...                               2             3   \n",
       "C11        Not Applicable  ...                               3             2   \n",
       "C12        Not Applicable  ...                               3             4   \n",
       "C13        Not Applicable  ...                               2             4   \n",
       "C14        Not Applicable  ...                               2             4   \n",
       "C15        Not Applicable  ...                               2             4   \n",
       "C2         Not Applicable  ...                               2             4   \n",
       "C3         Not Applicable  ...                               2             4   \n",
       "C5         Not Applicable  ...                               3             4   \n",
       "C6         Not Applicable  ...                               3             4   \n",
       "C7         Not Applicable  ...                               3             4   \n",
       "C8         Not Applicable  ...                               3             4   \n",
       "C9         Not Applicable  ...                               1             4   \n",
       "L1                      0  ...                               2           NaN   \n",
       "L10                     1  ...                               1             3   \n",
       "L11                     0  ...                               2             4   \n",
       "L12                     1  ...                               2             6   \n",
       "L13                     0  ...                               1             1   \n",
       "L14                     1  ...                               1             1   \n",
       "L15                     1  ...                               2             7   \n",
       "L16                     1  ...                               1             3   \n",
       "L17                     1  ...                               1             4   \n",
       "L18                     1  ...                               2             4   \n",
       "L19                     1  ...                               1             3   \n",
       "L2                      1  ...                               2             1   \n",
       "L20                     0  ...                               3             4   \n",
       "L21                     1  ...                               1             6   \n",
       "L22                     0  ...                               1             6   \n",
       "L23                     0  ...                               1             4   \n",
       "L24                     1  ...                               1             1   \n",
       "L27                     0  ...                               2             2   \n",
       "L3                      1  ...                               3             4   \n",
       "L31                     1  ...                               1             6   \n",
       "L32                     1  ...                               3             3   \n",
       "L35                     1  ...                               2             5   \n",
       "L36                     0  ...                               1             3   \n",
       "L37                     0  ...                               1             5   \n",
       "L39                     1  ...                               1             2   \n",
       "L4                      1  ...                               2             4   \n",
       "L42                     0  ...                               1             3   \n",
       "L5                      1  ...                               2             2   \n",
       "L6                    NaN  ...                               2             3   \n",
       "L7                      1  ...                               1             3   \n",
       "L8                      1  ...                               3             3   \n",
       "\n",
       "          Fasting Sleep fat_mass_bodpod fat_mass_BIA waist_circumference  BMI  \\\n",
       "sample-id                                                                       \n",
       "C1              2     2               5            4                   1    1   \n",
       "C11             2     2             NaN          NaN                 NaN  NaN   \n",
       "C12             1     1               3            3                   1    1   \n",
       "C13             1     1               4            4                   1    0   \n",
       "C14             1     2               2            3                   1    1   \n",
       "C15             2     1               2            3                   1    1   \n",
       "C2              1     1               4            4                   1    1   \n",
       "C3              1     1               2            1                   2    2   \n",
       "C5              2     2               3            3                   1    1   \n",
       "C6              2     1               3            2                   1    1   \n",
       "C7              1     1               4            4                   1    0   \n",
       "C8              2     2               2            3                   1    2   \n",
       "C9              1     1               2            2                   1    1   \n",
       "L1              2     2               3            3                   2    1   \n",
       "L10             1     1               4            3                   1    1   \n",
       "L11             1     2               3            3                   1    1   \n",
       "L12             2     2               2            2                   1    1   \n",
       "L13             2     2               1            2                   3    3   \n",
       "L14             1     2               1            1                   3    3   \n",
       "L15             2     2               4            4                   1    1   \n",
       "L16             1     1               2            2                   3    2   \n",
       "L17             1     1               1            2                   3    2   \n",
       "L18             1     1               2            3                   2    1   \n",
       "L19             1     2               1            1                   3    3   \n",
       "L2              1     1               2            2                   2    1   \n",
       "L20             2     2               2            3                   3    3   \n",
       "L21             1     2             NaN          NaN                   1    1   \n",
       "L22             2     1             NaN          NaN                   1    1   \n",
       "L23             1     2             NaN            1                   2    2   \n",
       "L24             2     2               2            4                   1    1   \n",
       "L27             1     1               3            3                   1    1   \n",
       "L3              1     2               5            4                   1    1   \n",
       "L31             1     2               1            1                   2    2   \n",
       "L32             2     2               4            4                   1    1   \n",
       "L35           NaN   NaN               3            2                   1    1   \n",
       "L36             1     1               1            1                   2    1   \n",
       "L37             2     2               1            1                   3    3   \n",
       "L39             2     2               2            4                   1    1   \n",
       "L4              2     2               2            2                   2    2   \n",
       "L42             2     2               1            1                   3    2   \n",
       "L5              2     2               3            4                   1    1   \n",
       "L6              2     2               2            2                   1    1   \n",
       "L7              1     1               3            4                   1    1   \n",
       "L8              2     2               2            4                   2    2   \n",
       "\n",
       "          waist_to_hip hip_to_hight  \n",
       "sample-id                            \n",
       "C1                 NaN            1  \n",
       "C11                NaN          NaN  \n",
       "C12                  1            1  \n",
       "C13                  1            1  \n",
       "C14                  1            1  \n",
       "C15                  1            1  \n",
       "C2                 NaN            1  \n",
       "C3                   1            2  \n",
       "C5                   1            1  \n",
       "C6                   1            1  \n",
       "C7                   1            1  \n",
       "C8                   1            1  \n",
       "C9                   1            1  \n",
       "L1                 NaN            2  \n",
       "L10                  1            1  \n",
       "L11                NaN            1  \n",
       "L12                  1            1  \n",
       "L13                NaN            2  \n",
       "L14                  2            2  \n",
       "L15                  1            1  \n",
       "L16                  1            2  \n",
       "L17                  1            2  \n",
       "L18                  2            2  \n",
       "L19                  2            2  \n",
       "L2                 NaN            2  \n",
       "L20                NaN            2  \n",
       "L21                  1            1  \n",
       "L22                  1            1  \n",
       "L23                  1            2  \n",
       "L24                  1            1  \n",
       "L27                  1            1  \n",
       "L3                 NaN            2  \n",
       "L31                  2            2  \n",
       "L32                NaN            1  \n",
       "L35                  1            1  \n",
       "L36                  1            1  \n",
       "L37                  2            2  \n",
       "L39                  1            1  \n",
       "L4                 NaN            2  \n",
       "L42                  2            2  \n",
       "L5                 NaN            1  \n",
       "L6                   1            1  \n",
       "L7                   1            1  \n",
       "L8                 NaN            1  \n",
       "\n",
       "[44 rows x 30 columns]"
      ]
     },
     "execution_count": 3,
     "metadata": {},
     "output_type": "execute_result"
    }
   ],
   "source": [
    "df = pd.read_csv(data,sep=',',na_values=\"Missing\").set_index('sample-id')\n",
    "df = df.drop(columns=\"patient codes\")\n",
    "df = df.drop(labels=[\"Controlo\"])\n",
    "df"
   ]
  },
  {
   "cell_type": "markdown",
   "id": "0b944fa6",
   "metadata": {},
   "source": [
    "## Particular Plots"
   ]
  },
  {
   "cell_type": "code",
   "execution_count": 28,
   "id": "452497b4",
   "metadata": {
    "scrolled": true
   },
   "outputs": [
    {
     "data": {
      "text/plain": [
       "<AxesSubplot:title={'center':'condition'}>"
      ]
     },
     "execution_count": 28,
     "metadata": {},
     "output_type": "execute_result"
    },
    {
     "data": {
      "image/png": "[encoded data removed]",
      "text/plain": [
       "<Figure size 432x288 with 1 Axes>"
      ]
     },
     "metadata": {
      "needs_background": "light"
     },
     "output_type": "display_data"
    }
   ],
   "source": [
    "df['condition'].value_counts().plot(kind='bar', title=\"condition\")"
   ]
  },
  {
   "cell_type": "code",
   "execution_count": 29,
   "id": "2a2cac41",
   "metadata": {},
   "outputs": [
    {
     "data": {
      "text/plain": [
       "<AxesSubplot:title={'center':'gender'}>"
      ]
     },
     "execution_count": 29,
     "metadata": {},
     "output_type": "execute_result"
    },
    {
     "data": {
      "image/png": "[encoded data removed]",
      "text/plain": [
       "<Figure size 432x288 with 1 Axes>"
      ]
     },
     "metadata": {
      "needs_background": "light"
     },
     "output_type": "display_data"
    }
   ],
   "source": [
    "df['gender'].value_counts().plot(kind='bar', title=\"gender\")"
   ]
  },
  {
   "cell_type": "code",
   "execution_count": 34,
   "id": "2d571289",
   "metadata": {},
   "outputs": [
    {
     "data": {
      "text/plain": [
       "3    34\n",
       "2     8\n",
       "1     2\n",
       "Name: age_5_categories, dtype: int64"
      ]
     },
     "execution_count": 34,
     "metadata": {},
     "output_type": "execute_result"
    }
   ],
   "source": [
    "df['age_5_categories'].value_counts()"
   ]
  },
  {
   "cell_type": "code",
   "execution_count": 32,
   "id": "65fd3acd",
   "metadata": {},
   "outputs": [
    {
     "data": {
      "text/plain": [
       "<AxesSubplot:title={'center':'ethnicity'}>"
      ]
     },
     "execution_count": 32,
     "metadata": {},
     "output_type": "execute_result"
    },
    {
     "data": {
      "image/png": "[encoded data removed]",
      "text/plain": [
       "<Figure size 432x288 with 1 Axes>"
      ]
     },
     "metadata": {
      "needs_background": "light"
     },
     "output_type": "display_data"
    }
   ],
   "source": [
    "df['ethnicity'].value_counts().plot(kind='bar', title=\"ethnicity\")"
   ]
  },
  {
   "cell_type": "markdown",
   "id": "ca8e9a93",
   "metadata": {},
   "source": [
    "## Global Histograms"
   ]
  },
  {
   "cell_type": "code",
   "execution_count": 33,
   "id": "869a47b4",
   "metadata": {},
   "outputs": [
    {
     "name": "stdout",
     "output_type": "stream",
     "text": [
      "condition\n",
      "1 1\n",
      "gender\n",
      "1 2\n",
      "ethnicity\n",
      "2 1\n",
      "age_2_categories\n",
      "2 2\n",
      "age_5_categories\n",
      "3 1\n",
      "age_diagnosis_2_categories\n",
      "3 2\n",
      "age_diagnosis_5_categories\n",
      "4 1\n",
      "time_since_diagnosis_2_categories\n",
      "4 2\n",
      "time_since_diagnosis_5_categories\n",
      "5 1\n",
      "lupus_nephritis\n",
      "5 2\n",
      "SLEDAI-2K\n",
      "6 1\n",
      "GLP-1\n",
      "6 2\n",
      "sCD14\n",
      "7 1\n",
      "IFABP\n",
      "7 2\n",
      "Zonulin_05\n",
      "8 1\n",
      "Zonulin_1\n",
      "8 2\n",
      "physical_activity_IPAQ\n",
      "9 1\n",
      "sitting_time_2_categories\n",
      "9 2\n",
      "sitting_time_4_categories\n",
      "10 1\n",
      "mediterranean_diet_2_categories\n",
      "10 2\n",
      "mediterranean_diet_3_categories\n",
      "11 1\n",
      "bristol_scale\n",
      "11 2\n",
      "Fasting\n",
      "12 1\n",
      "Sleep\n",
      "12 2\n",
      "fat_mass_bodpod\n",
      "13 1\n",
      "fat_mass_BIA\n",
      "13 2\n",
      "waist_circumference\n",
      "14 1\n",
      "BMI\n",
      "14 2\n",
      "waist_to_hip\n",
      "15 1\n",
      "hip_to_hight\n",
      "15 2\n"
     ]
    },
    {
     "data": {
      "application/vnd.plotly.v1+json": {
       "config": {
        "plotlyServerURL": "https://plot.ly"
       },
       "data": [
        {
         "marker": {
          "color": "darkgray"
         },
         "name": "condition",
         "showlegend": false,
         "texttemplate": "%{y}",
         "type": "histogram",
         "x": [
          "Sick",
          "Healthy",
          "Healthy",
          "Healthy",
          "Healthy",
          "Healthy",
          "Healthy",
          "Healthy",
          "Healthy",
          "Healthy",
          "Healthy",
          "Healthy",
          "Healthy",
          "Sick",
          "Sick",
          "Sick",
          "Sick",
          "Sick",
          "Sick",
          "Sick",
          "Sick",
          "Sick",
          "Sick",
          "Sick",
          "Sick",
          "Sick",
          "Sick",
          "Sick",
          "Sick",
          "Sick",
          "Sick",
          "Sick",
          "Sick",
          "Sick",
          "Sick",
          "Sick",
          "Sick",
          "Sick",
          "Sick",
          "Sick",
          "Sick",
          "Sick",
          "Sick",
          "Sick"
         ],
         "xaxis": "x",
         "yaxis": "y"
        },
        {
         "marker": {
          "color": "darkgray"
         },
         "name": "gender",
         "showlegend": false,
         "texttemplate": "%{y}",
         "type": "histogram",
         "x": [
          "0",
          "0",
          "1",
          "0",
          "0",
          "0",
          "0",
          "0",
          "0",
          "0",
          "0",
          "0",
          "1",
          "1",
          "0",
          "0",
          "0",
          "0",
          "0",
          "0",
          "0",
          "0",
          "0",
          "0",
          "1",
          "0",
          "1",
          "1",
          "0",
          "0",
          "0",
          "0",
          "1",
          "0",
          "0",
          "0",
          "0",
          "0",
          "0",
          "0",
          "0",
          "0",
          "0",
          "0"
         ],
         "xaxis": "x2",
         "yaxis": "y2"
        },
        {
         "marker": {
          "color": "darkgray"
         },
         "name": "ethnicity",
         "showlegend": false,
         "texttemplate": "%{y}",
         "type": "histogram",
         "x": [
          "1",
          "1",
          "1",
          "1",
          "1",
          "1",
          "1",
          "1",
          "1",
          "1",
          "1",
          "1",
          "1",
          "1",
          "2",
          "4",
          "1",
          "1",
          "1",
          "3",
          "1",
          "6",
          "1",
          "1",
          "1",
          "1",
          "1",
          "3",
          "1",
          "3",
          "1",
          "1",
          "1",
          "1",
          "1",
          "6",
          "6",
          "3",
          "1",
          "1",
          "1",
          "1",
          "1",
          "1"
         ],
         "xaxis": "x3",
         "yaxis": "y3"
        },
        {
         "marker": {
          "color": "darkgray"
         },
         "name": "age_2_categories",
         "showlegend": false,
         "texttemplate": "%{y}",
         "type": "histogram",
         "x": [
          "1",
          "2",
          "2",
          "2",
          "2",
          "2",
          "2",
          "2",
          "2",
          "2",
          "2",
          "2",
          "2",
          "2",
          "2",
          "1",
          "2",
          "1",
          "2",
          "2",
          "2",
          "2",
          "2",
          "2",
          "1",
          "1",
          "2",
          "2",
          "2",
          "2",
          "2",
          "2",
          "2",
          "1",
          "1",
          "2",
          "2",
          "2",
          "1",
          "2",
          "1",
          "2",
          "2",
          "1"
         ],
         "xaxis": "x4",
         "yaxis": "y4"
        },
        {
         "marker": {
          "color": "darkgray"
         },
         "name": "age_5_categories",
         "showlegend": false,
         "texttemplate": "%{y}",
         "type": "histogram",
         "x": [
          "2",
          "3",
          "3",
          "3",
          "3",
          "3",
          "3",
          "3",
          "3",
          "3",
          "3",
          "3",
          "3",
          "3",
          "3",
          "2",
          "3",
          "2",
          "3",
          "3",
          "3",
          "3",
          "3",
          "3",
          "2",
          "1",
          "3",
          "3",
          "3",
          "3",
          "3",
          "3",
          "3",
          "2",
          "2",
          "3",
          "3",
          "3",
          "2",
          "3",
          "2",
          "3",
          "3",
          "1"
         ],
         "xaxis": "x5",
         "yaxis": "y5"
        },
        {
         "marker": {
          "color": "darkgray"
         },
         "name": "age_diagnosis_2_categories",
         "showlegend": false,
         "texttemplate": "%{y}",
         "type": "histogram",
         "x": [
          "1",
          "Not Applicable",
          "Not Applicable",
          "Not Applicable",
          "Not Applicable",
          "Not Applicable",
          "Not Applicable",
          "Not Applicable",
          "Not Applicable",
          "Not Applicable",
          "Not Applicable",
          "Not Applicable",
          "Not Applicable",
          null,
          "2",
          "1",
          "2",
          "1",
          "2",
          "2",
          "2",
          "1",
          "2",
          "1",
          "1",
          "1",
          "2",
          "2",
          "2",
          "1",
          null,
          null,
          "2",
          "1",
          "1",
          "2",
          "2",
          null,
          "1",
          "2",
          "1",
          null,
          "2",
          "1"
         ],
         "xaxis": "x6",
         "yaxis": "y6"
        },
        {
         "marker": {
          "color": "darkgray"
         },
         "name": "age_diagnosis_5_categories",
         "showlegend": false,
         "texttemplate": "%{y}",
         "type": "histogram",
         "x": [
          "2",
          "Not Applicable",
          "Not Applicable",
          "Not Applicable",
          "Not Applicable",
          "Not Applicable",
          "Not Applicable",
          "Not Applicable",
          "Not Applicable",
          "Not Applicable",
          "Not Applicable",
          "Not Applicable",
          "Not Applicable",
          null,
          "3",
          "2",
          "3",
          "1",
          "3",
          "3",
          "3",
          "1",
          "3",
          "1",
          "2",
          "1",
          "3",
          "3",
          "3",
          "2",
          null,
          null,
          "3",
          "1",
          "1",
          "3",
          "3",
          null,
          "2",
          "3",
          "1",
          null,
          "3",
          "1"
         ],
         "xaxis": "x7",
         "yaxis": "y7"
        },
        {
         "marker": {
          "color": "darkgray"
         },
         "name": "time_since_diagnosis_2_categories",
         "showlegend": false,
         "texttemplate": "%{y}",
         "type": "histogram",
         "x": [
          "1",
          "Not Applicable",
          "Not Applicable",
          "Not Applicable",
          "Not Applicable",
          "Not Applicable",
          "Not Applicable",
          "Not Applicable",
          "Not Applicable",
          "Not Applicable",
          "Not Applicable",
          "Not Applicable",
          "Not Applicable",
          "2",
          "1",
          "2",
          "2",
          "2",
          "2",
          "2",
          "2",
          "2",
          "2",
          "2",
          "2",
          "1",
          "2",
          "2",
          "2",
          "2",
          null,
          "2",
          "2",
          "1",
          "2",
          "2",
          "2",
          "2",
          "1",
          "2",
          "2",
          null,
          "2",
          "1"
         ],
         "xaxis": "x8",
         "yaxis": "y8"
        },
        {
         "marker": {
          "color": "darkgray"
         },
         "name": "time_since_diagnosis_5_categories",
         "showlegend": false,
         "texttemplate": "%{y}",
         "type": "histogram",
         "x": [
          "1",
          "Not Applicable",
          "Not Applicable",
          "Not Applicable",
          "Not Applicable",
          "Not Applicable",
          "Not Applicable",
          "Not Applicable",
          "Not Applicable",
          "Not Applicable",
          "Not Applicable",
          "Not Applicable",
          "Not Applicable",
          "3",
          "2",
          "3",
          "5",
          "3",
          "5",
          "3",
          "3",
          "5",
          "4",
          "5",
          "3",
          "1",
          "4",
          "4",
          "5",
          "5",
          null,
          "3",
          "5",
          "2",
          "5",
          "5",
          "5",
          "5",
          "1",
          "5",
          "3",
          null,
          "3",
          "1"
         ],
         "xaxis": "x9",
         "yaxis": "y9"
        },
        {
         "marker": {
          "color": "darkgray"
         },
         "name": "lupus_nephritis",
         "showlegend": false,
         "texttemplate": "%{y}",
         "type": "histogram",
         "x": [
          "0",
          "Not Applicable",
          "Not Applicable",
          "Not Applicable",
          "Not Applicable",
          "Not Applicable",
          "Not Applicable",
          "Not Applicable",
          "Not Applicable",
          "Not Applicable",
          "Not Applicable",
          "Not Applicable",
          "Not Applicable",
          "0",
          "1",
          "0",
          "1",
          "0",
          "1",
          "1",
          "1",
          "1",
          "1",
          "1",
          "1",
          "0",
          "1",
          "0",
          "0",
          "1",
          "0",
          "1",
          "1",
          "1",
          "1",
          "0",
          "0",
          "1",
          "1",
          "0",
          "1",
          null,
          "1",
          "1"
         ],
         "xaxis": "x10",
         "yaxis": "y10"
        },
        {
         "marker": {
          "color": "darkgray"
         },
         "name": "SLEDAI-2K",
         "showlegend": false,
         "texttemplate": "%{y}",
         "type": "histogram",
         "x": [
          null,
          "Not Applicable",
          "Not Applicable",
          "Not Applicable",
          "Not Applicable",
          "Not Applicable",
          "Not Applicable",
          "Not Applicable",
          "Not Applicable",
          "Not Applicable",
          "Not Applicable",
          "Not Applicable",
          "Not Applicable",
          "3",
          "1",
          "2",
          "3",
          "2",
          "1",
          "3",
          "2",
          "2",
          "3",
          "1",
          "3",
          "3",
          "3",
          "2",
          "1",
          "3",
          "3",
          "2",
          "2",
          "1",
          "3",
          "3",
          "4",
          "3",
          "1",
          "3",
          "2",
          "3",
          "1",
          "1"
         ],
         "xaxis": "x11",
         "yaxis": "y11"
        },
        {
         "marker": {
          "color": "darkgray"
         },
         "name": "GLP-1",
         "showlegend": false,
         "texttemplate": "%{y}",
         "type": "histogram",
         "x": [
          "1",
          "2",
          null,
          null,
          null,
          null,
          "2",
          "1",
          "1",
          "1",
          "1",
          "1",
          "1",
          "1",
          "2",
          "2",
          "1",
          "1",
          "2",
          "1",
          "1",
          "2",
          "2",
          "2",
          "2",
          "2",
          "2",
          "1",
          "2",
          null,
          "1",
          "1",
          "2",
          "1",
          "2",
          "2",
          null,
          null,
          "2",
          null,
          "1",
          "1",
          "1",
          "2"
         ],
         "xaxis": "x12",
         "yaxis": "y12"
        },
        {
         "marker": {
          "color": "darkgray"
         },
         "name": "sCD14",
         "showlegend": false,
         "texttemplate": "%{y}",
         "type": "histogram",
         "x": [
          "2",
          null,
          null,
          null,
          null,
          null,
          "1",
          "2",
          "1",
          "1",
          "1",
          "1",
          null,
          "3",
          "4",
          "3",
          "4",
          "4",
          "4",
          "3",
          "1",
          "2",
          "4",
          null,
          "2",
          "2",
          "4",
          "3",
          "2",
          null,
          "3",
          "3",
          null,
          null,
          "4",
          "3",
          "4",
          null,
          "1",
          null,
          "1",
          "2",
          "3",
          "2"
         ],
         "xaxis": "x13",
         "yaxis": "y13"
        },
        {
         "marker": {
          "color": "darkgray"
         },
         "name": "IFABP",
         "showlegend": false,
         "texttemplate": "%{y}",
         "type": "histogram",
         "x": [
          "4",
          "4",
          "4",
          "2",
          "2",
          "1",
          "1",
          "2",
          "3",
          "2",
          "2",
          "1",
          "3",
          "1",
          "1",
          "4",
          "4",
          "1",
          "4",
          "3",
          "1",
          "1",
          "4",
          "4",
          "2",
          "2",
          "3",
          "3",
          "1",
          "4",
          "2",
          "2",
          "4",
          "3",
          "4",
          "1",
          "3",
          "1",
          "2",
          "1",
          "2",
          "3",
          "4",
          "3"
         ],
         "xaxis": "x14",
         "yaxis": "y14"
        },
        {
         "marker": {
          "color": "darkgray"
         },
         "name": "Zonulin_05",
         "showlegend": false,
         "texttemplate": "%{y}",
         "type": "histogram",
         "x": [
          "1",
          "1",
          null,
          null,
          null,
          null,
          "1",
          "1",
          "1",
          "1",
          "1",
          "1",
          "1",
          "1",
          "2",
          "2",
          "1",
          "2",
          "1",
          "1",
          "2",
          "2",
          "1",
          "2",
          "1",
          null,
          "2",
          "1",
          "2",
          null,
          "2",
          null,
          "2",
          "1",
          "2",
          "1",
          "1",
          null,
          "1",
          null,
          "1",
          "1",
          "2",
          "1"
         ],
         "xaxis": "x15",
         "yaxis": "y15"
        },
        {
         "marker": {
          "color": "darkgray"
         },
         "name": "Zonulin_1",
         "showlegend": false,
         "texttemplate": "%{y}",
         "type": "histogram",
         "x": [
          "3",
          "3",
          null,
          null,
          null,
          null,
          "3",
          "3",
          "3",
          "3",
          "3",
          "3",
          "3",
          "3",
          "4",
          "4",
          "3",
          "3",
          "3",
          "3",
          "3",
          "3",
          "3",
          "4",
          "3",
          null,
          "4",
          "3",
          "4",
          null,
          "3",
          null,
          "4",
          "3",
          "4",
          "3",
          "3",
          null,
          "3",
          null,
          "3",
          "3",
          "4",
          "3"
         ],
         "xaxis": "x16",
         "yaxis": "y16"
        },
        {
         "marker": {
          "color": "darkgray"
         },
         "name": "physical_activity_IPAQ",
         "showlegend": false,
         "texttemplate": "%{y}",
         "type": "histogram",
         "x": [
          "2",
          "2",
          "1",
          "3",
          "2",
          "2",
          "2",
          "3",
          "1",
          "1",
          "1",
          "2",
          "2",
          "2",
          "2",
          "2",
          "1",
          "3",
          "3",
          "3",
          "2",
          "2",
          "3",
          "3",
          "2",
          null,
          "2",
          "3",
          "3",
          "3",
          "1",
          "1",
          "1",
          null,
          "1",
          "2",
          "3",
          "3",
          "2",
          "3",
          "2",
          "2",
          "2",
          null
         ],
         "xaxis": "x17",
         "yaxis": "y17"
        },
        {
         "marker": {
          "color": "darkgray"
         },
         "name": "sitting_time_2_categories",
         "showlegend": false,
         "texttemplate": "%{y}",
         "type": "histogram",
         "x": [
          "2",
          "1",
          "2",
          "2",
          "2",
          "2",
          "1",
          "1",
          "1",
          "1",
          "1",
          "1",
          "2",
          "2",
          "2",
          "2",
          "1",
          "2",
          "1",
          "2",
          "2",
          "2",
          "2",
          "1",
          "2",
          null,
          "1",
          "1",
          "2",
          "2",
          "1",
          "1",
          "1",
          null,
          "1",
          "1",
          "1",
          "2",
          "2",
          "2",
          "2",
          "2",
          "1",
          null
         ],
         "xaxis": "x18",
         "yaxis": "y18"
        },
        {
         "marker": {
          "color": "darkgray"
         },
         "name": "sitting_time_4_categories",
         "showlegend": false,
         "texttemplate": "%{y}",
         "type": "histogram",
         "x": [
          "3",
          "1",
          "3",
          "3",
          "3",
          "4",
          "1",
          "1",
          "1",
          "2",
          "1",
          "1",
          "3",
          "4",
          "4",
          "4",
          "1",
          "3",
          "2",
          "3",
          "3",
          "4",
          "4",
          "2",
          "4",
          null,
          "2",
          "2",
          "3",
          "4",
          "1",
          "2",
          "2",
          null,
          "1",
          "1",
          "2",
          "4",
          "4",
          "3",
          "3",
          "3",
          "1",
          null
         ],
         "xaxis": "x19",
         "yaxis": "y19"
        },
        {
         "marker": {
          "color": "darkgray"
         },
         "name": "mediterranean_diet_2_categories",
         "showlegend": false,
         "texttemplate": "%{y}",
         "type": "histogram",
         "x": [
          "1",
          "2",
          "2",
          "1",
          "1",
          "1",
          "1",
          "1",
          "2",
          "2",
          "2",
          "2",
          "1",
          "1",
          "1",
          "1",
          "1",
          "1",
          "1",
          "1",
          "1",
          "1",
          "1",
          "1",
          "1",
          "2",
          "1",
          "1",
          "1",
          "1",
          "1",
          "2",
          "1",
          "2",
          "1",
          "1",
          "1",
          "1",
          "1",
          "1",
          "1",
          "1",
          "1",
          "2"
         ],
         "xaxis": "x20",
         "yaxis": "y20"
        },
        {
         "marker": {
          "color": "darkgray"
         },
         "name": "mediterranean_diet_3_categories",
         "showlegend": false,
         "texttemplate": "%{y}",
         "type": "histogram",
         "x": [
          "2",
          "3",
          "3",
          "2",
          "2",
          "2",
          "2",
          "2",
          "3",
          "3",
          "3",
          "3",
          "1",
          "2",
          "1",
          "2",
          "2",
          "1",
          "1",
          "2",
          "1",
          "1",
          "2",
          "1",
          "2",
          "3",
          "1",
          "1",
          "1",
          "1",
          "2",
          "3",
          "1",
          "3",
          "2",
          "1",
          "1",
          "1",
          "2",
          "1",
          "2",
          "2",
          "1",
          "3"
         ],
         "xaxis": "x21",
         "yaxis": "y21"
        },
        {
         "marker": {
          "color": "darkgray"
         },
         "name": "bristol_scale",
         "showlegend": false,
         "texttemplate": "%{y}",
         "type": "histogram",
         "x": [
          "3",
          "2",
          "4",
          "4",
          "4",
          "4",
          "4",
          "4",
          "4",
          "4",
          "4",
          "4",
          "4",
          null,
          "3",
          "4",
          "6",
          "1",
          "1",
          "7",
          "3",
          "4",
          "4",
          "3",
          "1",
          "4",
          "6",
          "6",
          "4",
          "1",
          "2",
          "4",
          "6",
          "3",
          "5",
          "3",
          "5",
          "2",
          "4",
          "3",
          "2",
          "3",
          "3",
          "3"
         ],
         "xaxis": "x22",
         "yaxis": "y22"
        },
        {
         "marker": {
          "color": "darkgray"
         },
         "name": "Fasting",
         "showlegend": false,
         "texttemplate": "%{y}",
         "type": "histogram",
         "x": [
          "2",
          "2",
          "1",
          "1",
          "1",
          "2",
          "1",
          "1",
          "2",
          "2",
          "1",
          "2",
          "1",
          "2",
          "1",
          "1",
          "2",
          "2",
          "1",
          "2",
          "1",
          "1",
          "1",
          "1",
          "1",
          "2",
          "1",
          "2",
          "1",
          "2",
          "1",
          "1",
          "1",
          "2",
          null,
          "1",
          "2",
          "2",
          "2",
          "2",
          "2",
          "2",
          "1",
          "2"
         ],
         "xaxis": "x23",
         "yaxis": "y23"
        },
        {
         "marker": {
          "color": "darkgray"
         },
         "name": "Sleep",
         "showlegend": false,
         "texttemplate": "%{y}",
         "type": "histogram",
         "x": [
          "2",
          "2",
          "1",
          "1",
          "2",
          "1",
          "1",
          "1",
          "2",
          "1",
          "1",
          "2",
          "1",
          "2",
          "1",
          "2",
          "2",
          "2",
          "2",
          "2",
          "1",
          "1",
          "1",
          "2",
          "1",
          "2",
          "2",
          "1",
          "2",
          "2",
          "1",
          "2",
          "2",
          "2",
          null,
          "1",
          "2",
          "2",
          "2",
          "2",
          "2",
          "2",
          "1",
          "2"
         ],
         "xaxis": "x24",
         "yaxis": "y24"
        },
        {
         "marker": {
          "color": "darkgray"
         },
         "name": "fat_mass_bodpod",
         "showlegend": false,
         "texttemplate": "%{y}",
         "type": "histogram",
         "x": [
          "5",
          null,
          "3",
          "4",
          "2",
          "2",
          "4",
          "2",
          "3",
          "3",
          "4",
          "2",
          "2",
          "3",
          "4",
          "3",
          "2",
          "1",
          "1",
          "4",
          "2",
          "1",
          "2",
          "1",
          "2",
          "2",
          null,
          null,
          null,
          "2",
          "3",
          "5",
          "1",
          "4",
          "3",
          "1",
          "1",
          "2",
          "2",
          "1",
          "3",
          "2",
          "3",
          "2"
         ],
         "xaxis": "x25",
         "yaxis": "y25"
        },
        {
         "marker": {
          "color": "darkgray"
         },
         "name": "fat_mass_BIA",
         "showlegend": false,
         "texttemplate": "%{y}",
         "type": "histogram",
         "x": [
          "4",
          null,
          "3",
          "4",
          "3",
          "3",
          "4",
          "1",
          "3",
          "2",
          "4",
          "3",
          "2",
          "3",
          "3",
          "3",
          "2",
          "2",
          "1",
          "4",
          "2",
          "2",
          "3",
          "1",
          "2",
          "3",
          null,
          null,
          "1",
          "4",
          "3",
          "4",
          "1",
          "4",
          "2",
          "1",
          "1",
          "4",
          "2",
          "1",
          "4",
          "2",
          "4",
          "4"
         ],
         "xaxis": "x26",
         "yaxis": "y26"
        },
        {
         "marker": {
          "color": "darkgray"
         },
         "name": "waist_circumference",
         "showlegend": false,
         "texttemplate": "%{y}",
         "type": "histogram",
         "x": [
          "1",
          null,
          "1",
          "1",
          "1",
          "1",
          "1",
          "2",
          "1",
          "1",
          "1",
          "1",
          "1",
          "2",
          "1",
          "1",
          "1",
          "3",
          "3",
          "1",
          "3",
          "3",
          "2",
          "3",
          "2",
          "3",
          "1",
          "1",
          "2",
          "1",
          "1",
          "1",
          "2",
          "1",
          "1",
          "2",
          "3",
          "1",
          "2",
          "3",
          "1",
          "1",
          "1",
          "2"
         ],
         "xaxis": "x27",
         "yaxis": "y27"
        },
        {
         "marker": {
          "color": "darkgray"
         },
         "name": "BMI",
         "showlegend": false,
         "texttemplate": "%{y}",
         "type": "histogram",
         "x": [
          "1",
          null,
          "1",
          "0",
          "1",
          "1",
          "1",
          "2",
          "1",
          "1",
          "0",
          "2",
          "1",
          "1",
          "1",
          "1",
          "1",
          "3",
          "3",
          "1",
          "2",
          "2",
          "1",
          "3",
          "1",
          "3",
          "1",
          "1",
          "2",
          "1",
          "1",
          "1",
          "2",
          "1",
          "1",
          "1",
          "3",
          "1",
          "2",
          "2",
          "1",
          "1",
          "1",
          "2"
         ],
         "xaxis": "x28",
         "yaxis": "y28"
        },
        {
         "marker": {
          "color": "darkgray"
         },
         "name": "waist_to_hip",
         "showlegend": false,
         "texttemplate": "%{y}",
         "type": "histogram",
         "x": [
          null,
          null,
          "1",
          "1",
          "1",
          "1",
          null,
          "1",
          "1",
          "1",
          "1",
          "1",
          "1",
          null,
          "1",
          null,
          "1",
          null,
          "2",
          "1",
          "1",
          "1",
          "2",
          "2",
          null,
          null,
          "1",
          "1",
          "1",
          "1",
          "1",
          null,
          "2",
          null,
          "1",
          "1",
          "2",
          "1",
          null,
          "2",
          null,
          "1",
          "1",
          null
         ],
         "xaxis": "x29",
         "yaxis": "y29"
        },
        {
         "marker": {
          "color": "darkgray"
         },
         "name": "hip_to_hight",
         "showlegend": false,
         "texttemplate": "%{y}",
         "type": "histogram",
         "x": [
          "1",
          null,
          "1",
          "1",
          "1",
          "1",
          "1",
          "2",
          "1",
          "1",
          "1",
          "1",
          "1",
          "2",
          "1",
          "1",
          "1",
          "2",
          "2",
          "1",
          "2",
          "2",
          "2",
          "2",
          "2",
          "2",
          "1",
          "1",
          "2",
          "1",
          "1",
          "2",
          "2",
          "1",
          "1",
          "1",
          "2",
          "1",
          "2",
          "2",
          "1",
          "1",
          "1",
          "1"
         ],
         "xaxis": "x30",
         "yaxis": "y30"
        }
       ],
       "layout": {
        "annotations": [
         {
          "font": {
           "size": 16
          },
          "showarrow": false,
          "text": "condition",
          "x": 0.225,
          "xanchor": "center",
          "xref": "paper",
          "y": 1,
          "yanchor": "bottom",
          "yref": "paper"
         },
         {
          "font": {
           "size": 16
          },
          "showarrow": false,
          "text": "gender",
          "x": 0.775,
          "xanchor": "center",
          "xref": "paper",
          "y": 1,
          "yanchor": "bottom",
          "yref": "paper"
         },
         {
          "font": {
           "size": 16
          },
          "showarrow": false,
          "text": "ethnicity",
          "x": 0.225,
          "xanchor": "center",
          "xref": "paper",
          "y": 0.9311111111111112,
          "yanchor": "bottom",
          "yref": "paper"
         },
         {
          "font": {
           "size": 16
          },
          "showarrow": false,
          "text": "age_2_categories",
          "x": 0.775,
          "xanchor": "center",
          "xref": "paper",
          "y": 0.9311111111111112,
          "yanchor": "bottom",
          "yref": "paper"
         },
         {
          "font": {
           "size": 16
          },
          "showarrow": false,
          "text": "age_5_categories",
          "x": 0.225,
          "xanchor": "center",
          "xref": "paper",
          "y": 0.8622222222222222,
          "yanchor": "bottom",
          "yref": "paper"
         },
         {
          "font": {
           "size": 16
          },
          "showarrow": false,
          "text": "age_diagnosis_2_categories",
          "x": 0.775,
          "xanchor": "center",
          "xref": "paper",
          "y": 0.8622222222222222,
          "yanchor": "bottom",
          "yref": "paper"
         },
         {
          "font": {
           "size": 16
          },
          "showarrow": false,
          "text": "age_diagnosis_5_categories",
          "x": 0.225,
          "xanchor": "center",
          "xref": "paper",
          "y": 0.7933333333333333,
          "yanchor": "bottom",
          "yref": "paper"
         },
         {
          "font": {
           "size": 16
          },
          "showarrow": false,
          "text": "time_since_diagnosis_2_categories",
          "x": 0.775,
          "xanchor": "center",
          "xref": "paper",
          "y": 0.7933333333333333,
          "yanchor": "bottom",
          "yref": "paper"
         },
         {
          "font": {
           "size": 16
          },
          "showarrow": false,
          "text": "time_since_diagnosis_5_categories",
          "x": 0.225,
          "xanchor": "center",
          "xref": "paper",
          "y": 0.7244444444444444,
          "yanchor": "bottom",
          "yref": "paper"
         },
         {
          "font": {
           "size": 16
          },
          "showarrow": false,
          "text": "lupus_nephritis",
          "x": 0.775,
          "xanchor": "center",
          "xref": "paper",
          "y": 0.7244444444444444,
          "yanchor": "bottom",
          "yref": "paper"
         },
         {
          "font": {
           "size": 16
          },
          "showarrow": false,
          "text": "SLEDAI-2K",
          "x": 0.225,
          "xanchor": "center",
          "xref": "paper",
          "y": 0.6555555555555556,
          "yanchor": "bottom",
          "yref": "paper"
         },
         {
          "font": {
           "size": 16
          },
          "showarrow": false,
          "text": "GLP-1",
          "x": 0.775,
          "xanchor": "center",
          "xref": "paper",
          "y": 0.6555555555555556,
          "yanchor": "bottom",
          "yref": "paper"
         },
         {
          "font": {
           "size": 16
          },
          "showarrow": false,
          "text": "sCD14",
          "x": 0.225,
          "xanchor": "center",
          "xref": "paper",
          "y": 0.5866666666666667,
          "yanchor": "bottom",
          "yref": "paper"
         },
         {
          "font": {
           "size": 16
          },
          "showarrow": false,
          "text": "IFABP",
          "x": 0.775,
          "xanchor": "center",
          "xref": "paper",
          "y": 0.5866666666666667,
          "yanchor": "bottom",
          "yref": "paper"
         },
         {
          "font": {
           "size": 16
          },
          "showarrow": false,
          "text": "Zonulin_05",
          "x": 0.225,
          "xanchor": "center",
          "xref": "paper",
          "y": 0.5177777777777778,
          "yanchor": "bottom",
          "yref": "paper"
         },
         {
          "font": {
           "size": 16
          },
          "showarrow": false,
          "text": "Zonulin_1",
          "x": 0.775,
          "xanchor": "center",
          "xref": "paper",
          "y": 0.5177777777777778,
          "yanchor": "bottom",
          "yref": "paper"
         },
         {
          "font": {
           "size": 16
          },
          "showarrow": false,
          "text": "physical_activity_IPAQ",
          "x": 0.225,
          "xanchor": "center",
          "xref": "paper",
          "y": 0.4488888888888889,
          "yanchor": "bottom",
          "yref": "paper"
         },
         {
          "font": {
           "size": 16
          },
          "showarrow": false,
          "text": "sitting_time_2_categories",
          "x": 0.775,
          "xanchor": "center",
          "xref": "paper",
          "y": 0.4488888888888889,
          "yanchor": "bottom",
          "yref": "paper"
         },
         {
          "font": {
           "size": 16
          },
          "showarrow": false,
          "text": "sitting_time_4_categories",
          "x": 0.225,
          "xanchor": "center",
          "xref": "paper",
          "y": 0.38,
          "yanchor": "bottom",
          "yref": "paper"
         },
         {
          "font": {
           "size": 16
          },
          "showarrow": false,
          "text": "mediterranean_diet_2_categories",
          "x": 0.775,
          "xanchor": "center",
          "xref": "paper",
          "y": 0.38,
          "yanchor": "bottom",
          "yref": "paper"
         },
         {
          "font": {
           "size": 16
          },
          "showarrow": false,
          "text": "mediterranean_diet_3_categories",
          "x": 0.225,
          "xanchor": "center",
          "xref": "paper",
          "y": 0.3111111111111111,
          "yanchor": "bottom",
          "yref": "paper"
         },
         {
          "font": {
           "size": 16
          },
          "showarrow": false,
          "text": "bristol_scale",
          "x": 0.775,
          "xanchor": "center",
          "xref": "paper",
          "y": 0.3111111111111111,
          "yanchor": "bottom",
          "yref": "paper"
         },
         {
          "font": {
           "size": 16
          },
          "showarrow": false,
          "text": "Fasting",
          "x": 0.225,
          "xanchor": "center",
          "xref": "paper",
          "y": 0.24222222222222223,
          "yanchor": "bottom",
          "yref": "paper"
         },
         {
          "font": {
           "size": 16
          },
          "showarrow": false,
          "text": "Sleep",
          "x": 0.775,
          "xanchor": "center",
          "xref": "paper",
          "y": 0.24222222222222223,
          "yanchor": "bottom",
          "yref": "paper"
         },
         {
          "font": {
           "size": 16
          },
          "showarrow": false,
          "text": "fat_mass_bodpod",
          "x": 0.225,
          "xanchor": "center",
          "xref": "paper",
          "y": 0.17333333333333334,
          "yanchor": "bottom",
          "yref": "paper"
         },
         {
          "font": {
           "size": 16
          },
          "showarrow": false,
          "text": "fat_mass_BIA",
          "x": 0.775,
          "xanchor": "center",
          "xref": "paper",
          "y": 0.17333333333333334,
          "yanchor": "bottom",
          "yref": "paper"
         },
         {
          "font": {
           "size": 16
          },
          "showarrow": false,
          "text": "waist_circumference",
          "x": 0.225,
          "xanchor": "center",
          "xref": "paper",
          "y": 0.10444444444444445,
          "yanchor": "bottom",
          "yref": "paper"
         },
         {
          "font": {
           "size": 16
          },
          "showarrow": false,
          "text": "BMI",
          "x": 0.775,
          "xanchor": "center",
          "xref": "paper",
          "y": 0.10444444444444445,
          "yanchor": "bottom",
          "yref": "paper"
         },
         {
          "font": {
           "size": 16
          },
          "showarrow": false,
          "text": "waist_to_hip",
          "x": 0.225,
          "xanchor": "center",
          "xref": "paper",
          "y": 0.035555555555555556,
          "yanchor": "bottom",
          "yref": "paper"
         },
         {
          "font": {
           "size": 16
          },
          "showarrow": false,
          "text": "hip_to_hight",
          "x": 0.775,
          "xanchor": "center",
          "xref": "paper",
          "y": 0.035555555555555556,
          "yanchor": "bottom",
          "yref": "paper"
         }
        ],
        "template": {
         "data": {
          "bar": [
           {
            "error_x": {
             "color": "#2a3f5f"
            },
            "error_y": {
             "color": "#2a3f5f"
            },
            "marker": {
             "line": {
              "color": "#E5ECF6",
              "width": 0.5
             },
             "pattern": {
              "fillmode": "overlay",
              "size": 10,
              "solidity": 0.2
             }
            },
            "type": "bar"
           }
          ],
          "barpolar": [
           {
            "marker": {
             "line": {
              "color": "#E5ECF6",
              "width": 0.5
             },
             "pattern": {
              "fillmode": "overlay",
              "size": 10,
              "solidity": 0.2
             }
            },
            "type": "barpolar"
           }
          ],
          "carpet": [
           {
            "aaxis": {
             "endlinecolor": "#2a3f5f",
             "gridcolor": "white",
             "linecolor": "white",
             "minorgridcolor": "white",
             "startlinecolor": "#2a3f5f"
            },
            "baxis": {
             "endlinecolor": "#2a3f5f",
             "gridcolor": "white",
             "linecolor": "white",
             "minorgridcolor": "white",
             "startlinecolor": "#2a3f5f"
            },
            "type": "carpet"
           }
          ],
          "choropleth": [
           {
            "colorbar": {
             "outlinewidth": 0,
             "ticks": ""
            },
            "type": "choropleth"
           }
          ],
          "contour": [
           {
            "colorbar": {
             "outlinewidth": 0,
             "ticks": ""
            },
            "colorscale": [
             [
              0,
              "#0d0887"
             ],
             [
              0.1111111111111111,
              "#46039f"
             ],
             [
              0.2222222222222222,
              "#7201a8"
             ],
             [
              0.3333333333333333,
              "#9c179e"
             ],
             [
              0.4444444444444444,
              "#bd3786"
             ],
             [
              0.5555555555555556,
              "#d8576b"
             ],
             [
              0.6666666666666666,
              "#ed7953"
             ],
             [
              0.7777777777777778,
              "#fb9f3a"
             ],
             [
              0.8888888888888888,
              "#fdca26"
             ],
             [
              1,
              "#f0f921"
             ]
            ],
            "type": "contour"
           }
          ],
          "contourcarpet": [
           {
            "colorbar": {
             "outlinewidth": 0,
             "ticks": ""
            },
            "type": "contourcarpet"
           }
          ],
          "heatmap": [
           {
            "colorbar": {
             "outlinewidth": 0,
             "ticks": ""
            },
            "colorscale": [
             [
              0,
              "#0d0887"
             ],
             [
              0.1111111111111111,
              "#46039f"
             ],
             [
              0.2222222222222222,
              "#7201a8"
             ],
             [
              0.3333333333333333,
              "#9c179e"
             ],
             [
              0.4444444444444444,
              "#bd3786"
             ],
             [
              0.5555555555555556,
              "#d8576b"
             ],
             [
              0.6666666666666666,
              "#ed7953"
             ],
             [
              0.7777777777777778,
              "#fb9f3a"
             ],
             [
              0.8888888888888888,
              "#fdca26"
             ],
             [
              1,
              "#f0f921"
             ]
            ],
            "type": "heatmap"
           }
          ],
          "heatmapgl": [
           {
            "colorbar": {
             "outlinewidth": 0,
             "ticks": ""
            },
            "colorscale": [
             [
              0,
              "#0d0887"
             ],
             [
              0.1111111111111111,
              "#46039f"
             ],
             [
              0.2222222222222222,
              "#7201a8"
             ],
             [
              0.3333333333333333,
              "#9c179e"
             ],
             [
              0.4444444444444444,
              "#bd3786"
             ],
             [
              0.5555555555555556,
              "#d8576b"
             ],
             [
              0.6666666666666666,
              "#ed7953"
             ],
             [
              0.7777777777777778,
              "#fb9f3a"
             ],
             [
              0.8888888888888888,
              "#fdca26"
             ],
             [
              1,
              "#f0f921"
             ]
            ],
            "type": "heatmapgl"
           }
          ],
          "histogram": [
           {
            "marker": {
             "pattern": {
              "fillmode": "overlay",
              "size": 10,
              "solidity": 0.2
             }
            },
            "type": "histogram"
           }
          ],
          "histogram2d": [
           {
            "colorbar": {
             "outlinewidth": 0,
             "ticks": ""
            },
            "colorscale": [
             [
              0,
              "#0d0887"
             ],
             [
              0.1111111111111111,
              "#46039f"
             ],
             [
              0.2222222222222222,
              "#7201a8"
             ],
             [
              0.3333333333333333,
              "#9c179e"
             ],
             [
              0.4444444444444444,
              "#bd3786"
             ],
             [
              0.5555555555555556,
              "#d8576b"
             ],
             [
              0.6666666666666666,
              "#ed7953"
             ],
             [
              0.7777777777777778,
              "#fb9f3a"
             ],
             [
              0.8888888888888888,
              "#fdca26"
             ],
             [
              1,
              "#f0f921"
             ]
            ],
            "type": "histogram2d"
           }
          ],
          "histogram2dcontour": [
           {
            "colorbar": {
             "outlinewidth": 0,
             "ticks": ""
            },
            "colorscale": [
             [
              0,
              "#0d0887"
             ],
             [
              0.1111111111111111,
              "#46039f"
             ],
             [
              0.2222222222222222,
              "#7201a8"
             ],
             [
              0.3333333333333333,
              "#9c179e"
             ],
             [
              0.4444444444444444,
              "#bd3786"
             ],
             [
              0.5555555555555556,
              "#d8576b"
             ],
             [
              0.6666666666666666,
              "#ed7953"
             ],
             [
              0.7777777777777778,
              "#fb9f3a"
             ],
             [
              0.8888888888888888,
              "#fdca26"
             ],
             [
              1,
              "#f0f921"
             ]
            ],
            "type": "histogram2dcontour"
           }
          ],
          "mesh3d": [
           {
            "colorbar": {
             "outlinewidth": 0,
             "ticks": ""
            },
            "type": "mesh3d"
           }
          ],
          "parcoords": [
           {
            "line": {
             "colorbar": {
              "outlinewidth": 0,
              "ticks": ""
             }
            },
            "type": "parcoords"
           }
          ],
          "pie": [
           {
            "automargin": true,
            "type": "pie"
           }
          ],
          "scatter": [
           {
            "fillpattern": {
             "fillmode": "overlay",
             "size": 10,
             "solidity": 0.2
            },
            "type": "scatter"
           }
          ],
          "scatter3d": [
           {
            "line": {
             "colorbar": {
              "outlinewidth": 0,
              "ticks": ""
             }
            },
            "marker": {
             "colorbar": {
              "outlinewidth": 0,
              "ticks": ""
             }
            },
            "type": "scatter3d"
           }
          ],
          "scattercarpet": [
           {
            "marker": {
             "colorbar": {
              "outlinewidth": 0,
              "ticks": ""
             }
            },
            "type": "scattercarpet"
           }
          ],
          "scattergeo": [
           {
            "marker": {
             "colorbar": {
              "outlinewidth": 0,
              "ticks": ""
             }
            },
            "type": "scattergeo"
           }
          ],
          "scattergl": [
           {
            "marker": {
             "colorbar": {
              "outlinewidth": 0,
              "ticks": ""
             }
            },
            "type": "scattergl"
           }
          ],
          "scattermapbox": [
           {
            "marker": {
             "colorbar": {
              "outlinewidth": 0,
              "ticks": ""
             }
            },
            "type": "scattermapbox"
           }
          ],
          "scatterpolar": [
           {
            "marker": {
             "colorbar": {
              "outlinewidth": 0,
              "ticks": ""
             }
            },
            "type": "scatterpolar"
           }
          ],
          "scatterpolargl": [
           {
            "marker": {
             "colorbar": {
              "outlinewidth": 0,
              "ticks": ""
             }
            },
            "type": "scatterpolargl"
           }
          ],
          "scatterternary": [
           {
            "marker": {
             "colorbar": {
              "outlinewidth": 0,
              "ticks": ""
             }
            },
            "type": "scatterternary"
           }
          ],
          "surface": [
           {
            "colorbar": {
             "outlinewidth": 0,
             "ticks": ""
            },
            "colorscale": [
             [
              0,
              "#0d0887"
             ],
             [
              0.1111111111111111,
              "#46039f"
             ],
             [
              0.2222222222222222,
              "#7201a8"
             ],
             [
              0.3333333333333333,
              "#9c179e"
             ],
             [
              0.4444444444444444,
              "#bd3786"
             ],
             [
              0.5555555555555556,
              "#d8576b"
             ],
             [
              0.6666666666666666,
              "#ed7953"
             ],
             [
              0.7777777777777778,
              "#fb9f3a"
             ],
             [
              0.8888888888888888,
              "#fdca26"
             ],
             [
              1,
              "#f0f921"
             ]
            ],
            "type": "surface"
           }
          ],
          "table": [
           {
            "cells": {
             "fill": {
              "color": "#EBF0F8"
             },
             "line": {
              "color": "white"
             }
            },
            "header": {
             "fill": {
              "color": "#C8D4E3"
             },
             "line": {
              "color": "white"
             }
            },
            "type": "table"
           }
          ]
         },
         "layout": {
          "annotationdefaults": {
           "arrowcolor": "#2a3f5f",
           "arrowhead": 0,
           "arrowwidth": 1
          },
          "autotypenumbers": "strict",
          "coloraxis": {
           "colorbar": {
            "outlinewidth": 0,
            "ticks": ""
           }
          },
          "colorscale": {
           "diverging": [
            [
             0,
             "#8e0152"
            ],
            [
             0.1,
             "#c51b7d"
            ],
            [
             0.2,
             "#de77ae"
            ],
            [
             0.3,
             "#f1b6da"
            ],
            [
             0.4,
             "#fde0ef"
            ],
            [
             0.5,
             "#f7f7f7"
            ],
            [
             0.6,
             "#e6f5d0"
            ],
            [
             0.7,
             "#b8e186"
            ],
            [
             0.8,
             "#7fbc41"
            ],
            [
             0.9,
             "#4d9221"
            ],
            [
             1,
             "#276419"
            ]
           ],
           "sequential": [
            [
             0,
             "#0d0887"
            ],
            [
             0.1111111111111111,
             "#46039f"
            ],
            [
             0.2222222222222222,
             "#7201a8"
            ],
            [
             0.3333333333333333,
             "#9c179e"
            ],
            [
             0.4444444444444444,
             "#bd3786"
            ],
            [
             0.5555555555555556,
             "#d8576b"
            ],
            [
             0.6666666666666666,
             "#ed7953"
            ],
            [
             0.7777777777777778,
             "#fb9f3a"
            ],
            [
             0.8888888888888888,
             "#fdca26"
            ],
            [
             1,
             "#f0f921"
            ]
           ],
           "sequentialminus": [
            [
             0,
             "#0d0887"
            ],
            [
             0.1111111111111111,
             "#46039f"
            ],
            [
             0.2222222222222222,
             "#7201a8"
            ],
            [
             0.3333333333333333,
             "#9c179e"
            ],
            [
             0.4444444444444444,
             "#bd3786"
            ],
            [
             0.5555555555555556,
             "#d8576b"
            ],
            [
             0.6666666666666666,
             "#ed7953"
            ],
            [
             0.7777777777777778,
             "#fb9f3a"
            ],
            [
             0.8888888888888888,
             "#fdca26"
            ],
            [
             1,
             "#f0f921"
            ]
           ]
          },
          "colorway": [
           "#636efa",
           "#EF553B",
           "#00cc96",
           "#ab63fa",
           "#FFA15A",
           "#19d3f3",
           "#FF6692",
           "#B6E880",
           "#FF97FF",
           "#FECB52"
          ],
          "font": {
           "color": "#2a3f5f"
          },
          "geo": {
           "bgcolor": "white",
           "lakecolor": "white",
           "landcolor": "#E5ECF6",
           "showlakes": true,
           "showland": true,
           "subunitcolor": "white"
          },
          "hoverlabel": {
           "align": "left"
          },
          "hovermode": "closest",
          "mapbox": {
           "style": "light"
          },
          "paper_bgcolor": "white",
          "plot_bgcolor": "#E5ECF6",
          "polar": {
           "angularaxis": {
            "gridcolor": "white",
            "linecolor": "white",
            "ticks": ""
           },
           "bgcolor": "#E5ECF6",
           "radialaxis": {
            "gridcolor": "white",
            "linecolor": "white",
            "ticks": ""
           }
          },
          "scene": {
           "xaxis": {
            "backgroundcolor": "#E5ECF6",
            "gridcolor": "white",
            "gridwidth": 2,
            "linecolor": "white",
            "showbackground": true,
            "ticks": "",
            "zerolinecolor": "white"
           },
           "yaxis": {
            "backgroundcolor": "#E5ECF6",
            "gridcolor": "white",
            "gridwidth": 2,
            "linecolor": "white",
            "showbackground": true,
            "ticks": "",
            "zerolinecolor": "white"
           },
           "zaxis": {
            "backgroundcolor": "#E5ECF6",
            "gridcolor": "white",
            "gridwidth": 2,
            "linecolor": "white",
            "showbackground": true,
            "ticks": "",
            "zerolinecolor": "white"
           }
          },
          "shapedefaults": {
           "line": {
            "color": "#2a3f5f"
           }
          },
          "ternary": {
           "aaxis": {
            "gridcolor": "white",
            "linecolor": "white",
            "ticks": ""
           },
           "baxis": {
            "gridcolor": "white",
            "linecolor": "white",
            "ticks": ""
           },
           "bgcolor": "#E5ECF6",
           "caxis": {
            "gridcolor": "white",
            "linecolor": "white",
            "ticks": ""
           }
          },
          "title": {
           "x": 0.05
          },
          "xaxis": {
           "automargin": true,
           "gridcolor": "white",
           "linecolor": "white",
           "ticks": "",
           "title": {
            "standoff": 15
           },
           "zerolinecolor": "white",
           "zerolinewidth": 2
          },
          "yaxis": {
           "automargin": true,
           "gridcolor": "white",
           "linecolor": "white",
           "ticks": "",
           "title": {
            "standoff": 15
           },
           "zerolinecolor": "white",
           "zerolinewidth": 2
          }
         }
        },
        "xaxis": {
         "anchor": "y",
         "domain": [
          0,
          0.45
         ]
        },
        "xaxis10": {
         "anchor": "y10",
         "domain": [
          0.55,
          1
         ]
        },
        "xaxis11": {
         "anchor": "y11",
         "domain": [
          0,
          0.45
         ]
        },
        "xaxis12": {
         "anchor": "y12",
         "domain": [
          0.55,
          1
         ]
        },
        "xaxis13": {
         "anchor": "y13",
         "domain": [
          0,
          0.45
         ]
        },
        "xaxis14": {
         "anchor": "y14",
         "domain": [
          0.55,
          1
         ]
        },
        "xaxis15": {
         "anchor": "y15",
         "domain": [
          0,
          0.45
         ]
        },
        "xaxis16": {
         "anchor": "y16",
         "domain": [
          0.55,
          1
         ]
        },
        "xaxis17": {
         "anchor": "y17",
         "domain": [
          0,
          0.45
         ]
        },
        "xaxis18": {
         "anchor": "y18",
         "domain": [
          0.55,
          1
         ]
        },
        "xaxis19": {
         "anchor": "y19",
         "domain": [
          0,
          0.45
         ]
        },
        "xaxis2": {
         "anchor": "y2",
         "domain": [
          0.55,
          1
         ]
        },
        "xaxis20": {
         "anchor": "y20",
         "domain": [
          0.55,
          1
         ]
        },
        "xaxis21": {
         "anchor": "y21",
         "domain": [
          0,
          0.45
         ]
        },
        "xaxis22": {
         "anchor": "y22",
         "domain": [
          0.55,
          1
         ]
        },
        "xaxis23": {
         "anchor": "y23",
         "domain": [
          0,
          0.45
         ]
        },
        "xaxis24": {
         "anchor": "y24",
         "domain": [
          0.55,
          1
         ]
        },
        "xaxis25": {
         "anchor": "y25",
         "domain": [
          0,
          0.45
         ]
        },
        "xaxis26": {
         "anchor": "y26",
         "domain": [
          0.55,
          1
         ]
        },
        "xaxis27": {
         "anchor": "y27",
         "domain": [
          0,
          0.45
         ]
        },
        "xaxis28": {
         "anchor": "y28",
         "domain": [
          0.55,
          1
         ]
        },
        "xaxis29": {
         "anchor": "y29",
         "domain": [
          0,
          0.45
         ]
        },
        "xaxis3": {
         "anchor": "y3",
         "domain": [
          0,
          0.45
         ]
        },
        "xaxis30": {
         "anchor": "y30",
         "domain": [
          0.55,
          1
         ]
        },
        "xaxis4": {
         "anchor": "y4",
         "domain": [
          0.55,
          1
         ]
        },
        "xaxis5": {
         "anchor": "y5",
         "domain": [
          0,
          0.45
         ]
        },
        "xaxis6": {
         "anchor": "y6",
         "domain": [
          0.55,
          1
         ]
        },
        "xaxis7": {
         "anchor": "y7",
         "domain": [
          0,
          0.45
         ]
        },
        "xaxis8": {
         "anchor": "y8",
         "domain": [
          0.55,
          1
         ]
        },
        "xaxis9": {
         "anchor": "y9",
         "domain": [
          0,
          0.45
         ]
        },
        "yaxis": {
         "anchor": "x",
         "domain": [
          0.9644444444444444,
          1
         ]
        },
        "yaxis10": {
         "anchor": "x10",
         "domain": [
          0.6888888888888889,
          0.7244444444444444
         ]
        },
        "yaxis11": {
         "anchor": "x11",
         "domain": [
          0.62,
          0.6555555555555556
         ]
        },
        "yaxis12": {
         "anchor": "x12",
         "domain": [
          0.62,
          0.6555555555555556
         ]
        },
        "yaxis13": {
         "anchor": "x13",
         "domain": [
          0.5511111111111111,
          0.5866666666666667
         ]
        },
        "yaxis14": {
         "anchor": "x14",
         "domain": [
          0.5511111111111111,
          0.5866666666666667
         ]
        },
        "yaxis15": {
         "anchor": "x15",
         "domain": [
          0.4822222222222222,
          0.5177777777777778
         ]
        },
        "yaxis16": {
         "anchor": "x16",
         "domain": [
          0.4822222222222222,
          0.5177777777777778
         ]
        },
        "yaxis17": {
         "anchor": "x17",
         "domain": [
          0.41333333333333333,
          0.4488888888888889
         ]
        },
        "yaxis18": {
         "anchor": "x18",
         "domain": [
          0.41333333333333333,
          0.4488888888888889
         ]
        },
        "yaxis19": {
         "anchor": "x19",
         "domain": [
          0.34444444444444444,
          0.38
         ]
        },
        "yaxis2": {
         "anchor": "x2",
         "domain": [
          0.9644444444444444,
          1
         ]
        },
        "yaxis20": {
         "anchor": "x20",
         "domain": [
          0.34444444444444444,
          0.38
         ]
        },
        "yaxis21": {
         "anchor": "x21",
         "domain": [
          0.27555555555555555,
          0.3111111111111111
         ]
        },
        "yaxis22": {
         "anchor": "x22",
         "domain": [
          0.27555555555555555,
          0.3111111111111111
         ]
        },
        "yaxis23": {
         "anchor": "x23",
         "domain": [
          0.20666666666666667,
          0.24222222222222223
         ]
        },
        "yaxis24": {
         "anchor": "x24",
         "domain": [
          0.20666666666666667,
          0.24222222222222223
         ]
        },
        "yaxis25": {
         "anchor": "x25",
         "domain": [
          0.13777777777777778,
          0.17333333333333334
         ]
        },
        "yaxis26": {
         "anchor": "x26",
         "domain": [
          0.13777777777777778,
          0.17333333333333334
         ]
        },
        "yaxis27": {
         "anchor": "x27",
         "domain": [
          0.06888888888888889,
          0.10444444444444445
         ]
        },
        "yaxis28": {
         "anchor": "x28",
         "domain": [
          0.06888888888888889,
          0.10444444444444445
         ]
        },
        "yaxis29": {
         "anchor": "x29",
         "domain": [
          0,
          0.035555555555555556
         ]
        },
        "yaxis3": {
         "anchor": "x3",
         "domain": [
          0.8955555555555557,
          0.9311111111111112
         ]
        },
        "yaxis30": {
         "anchor": "x30",
         "domain": [
          0,
          0.035555555555555556
         ]
        },
        "yaxis4": {
         "anchor": "x4",
         "domain": [
          0.8955555555555557,
          0.9311111111111112
         ]
        },
        "yaxis5": {
         "anchor": "x5",
         "domain": [
          0.8266666666666667,
          0.8622222222222222
         ]
        },
        "yaxis6": {
         "anchor": "x6",
         "domain": [
          0.8266666666666667,
          0.8622222222222222
         ]
        },
        "yaxis7": {
         "anchor": "x7",
         "domain": [
          0.7577777777777778,
          0.7933333333333333
         ]
        },
        "yaxis8": {
         "anchor": "x8",
         "domain": [
          0.7577777777777778,
          0.7933333333333333
         ]
        },
        "yaxis9": {
         "anchor": "x9",
         "domain": [
          0.6888888888888889,
          0.7244444444444444
         ]
        }
       }
      },
      "text/html": [
       "<div>                            <div id=\"9af9a95f-089d-4ad5-aee0-9f5869dcdac6\" class=\"plotly-graph-div\" style=\"height:525px; width:100%;\"></div>            <script type=\"text/javascript\">                require([\"plotly\"], function(Plotly) {                    window.PLOTLYENV=window.PLOTLYENV || {};                                    if (document.getElementById(\"9af9a95f-089d-4ad5-aee0-9f5869dcdac6\")) {                    Plotly.newPlot(                        \"9af9a95f-089d-4ad5-aee0-9f5869dcdac6\",                        [{\"marker\":{\"color\":\"darkgray\"},\"name\":\"condition\",\"showlegend\":false,\"texttemplate\":\"%{y}\",\"x\":[\"Sick\",\"Healthy\",\"Healthy\",\"Healthy\",\"Healthy\",\"Healthy\",\"Healthy\",\"Healthy\",\"Healthy\",\"Healthy\",\"Healthy\",\"Healthy\",\"Healthy\",\"Sick\",\"Sick\",\"Sick\",\"Sick\",\"Sick\",\"Sick\",\"Sick\",\"Sick\",\"Sick\",\"Sick\",\"Sick\",\"Sick\",\"Sick\",\"Sick\",\"Sick\",\"Sick\",\"Sick\",\"Sick\",\"Sick\",\"Sick\",\"Sick\",\"Sick\",\"Sick\",\"Sick\",\"Sick\",\"Sick\",\"Sick\",\"Sick\",\"Sick\",\"Sick\",\"Sick\"],\"type\":\"histogram\",\"xaxis\":\"x\",\"yaxis\":\"y\"},{\"marker\":{\"color\":\"darkgray\"},\"name\":\"gender\",\"showlegend\":false,\"texttemplate\":\"%{y}\",\"x\":[\"0\",\"0\",\"1\",\"0\",\"0\",\"0\",\"0\",\"0\",\"0\",\"0\",\"0\",\"0\",\"1\",\"1\",\"0\",\"0\",\"0\",\"0\",\"0\",\"0\",\"0\",\"0\",\"0\",\"0\",\"1\",\"0\",\"1\",\"1\",\"0\",\"0\",\"0\",\"0\",\"1\",\"0\",\"0\",\"0\",\"0\",\"0\",\"0\",\"0\",\"0\",\"0\",\"0\",\"0\"],\"type\":\"histogram\",\"xaxis\":\"x2\",\"yaxis\":\"y2\"},{\"marker\":{\"color\":\"darkgray\"},\"name\":\"ethnicity\",\"showlegend\":false,\"texttemplate\":\"%{y}\",\"x\":[\"1\",\"1\",\"1\",\"1\",\"1\",\"1\",\"1\",\"1\",\"1\",\"1\",\"1\",\"1\",\"1\",\"1\",\"2\",\"4\",\"1\",\"1\",\"1\",\"3\",\"1\",\"6\",\"1\",\"1\",\"1\",\"1\",\"1\",\"3\",\"1\",\"3\",\"1\",\"1\",\"1\",\"1\",\"1\",\"6\",\"6\",\"3\",\"1\",\"1\",\"1\",\"1\",\"1\",\"1\"],\"type\":\"histogram\",\"xaxis\":\"x3\",\"yaxis\":\"y3\"},{\"marker\":{\"color\":\"darkgray\"},\"name\":\"age_2_categories\",\"showlegend\":false,\"texttemplate\":\"%{y}\",\"x\":[\"1\",\"2\",\"2\",\"2\",\"2\",\"2\",\"2\",\"2\",\"2\",\"2\",\"2\",\"2\",\"2\",\"2\",\"2\",\"1\",\"2\",\"1\",\"2\",\"2\",\"2\",\"2\",\"2\",\"2\",\"1\",\"1\",\"2\",\"2\",\"2\",\"2\",\"2\",\"2\",\"2\",\"1\",\"1\",\"2\",\"2\",\"2\",\"1\",\"2\",\"1\",\"2\",\"2\",\"1\"],\"type\":\"histogram\",\"xaxis\":\"x4\",\"yaxis\":\"y4\"},{\"marker\":{\"color\":\"darkgray\"},\"name\":\"age_5_categories\",\"showlegend\":false,\"texttemplate\":\"%{y}\",\"x\":[\"2\",\"3\",\"3\",\"3\",\"3\",\"3\",\"3\",\"3\",\"3\",\"3\",\"3\",\"3\",\"3\",\"3\",\"3\",\"2\",\"3\",\"2\",\"3\",\"3\",\"3\",\"3\",\"3\",\"3\",\"2\",\"1\",\"3\",\"3\",\"3\",\"3\",\"3\",\"3\",\"3\",\"2\",\"2\",\"3\",\"3\",\"3\",\"2\",\"3\",\"2\",\"3\",\"3\",\"1\"],\"type\":\"histogram\",\"xaxis\":\"x5\",\"yaxis\":\"y5\"},{\"marker\":{\"color\":\"darkgray\"},\"name\":\"age_diagnosis_2_categories\",\"showlegend\":false,\"texttemplate\":\"%{y}\",\"x\":[\"1\",\"Not Applicable\",\"Not Applicable\",\"Not Applicable\",\"Not Applicable\",\"Not Applicable\",\"Not Applicable\",\"Not Applicable\",\"Not Applicable\",\"Not Applicable\",\"Not Applicable\",\"Not Applicable\",\"Not Applicable\",null,\"2\",\"1\",\"2\",\"1\",\"2\",\"2\",\"2\",\"1\",\"2\",\"1\",\"1\",\"1\",\"2\",\"2\",\"2\",\"1\",null,null,\"2\",\"1\",\"1\",\"2\",\"2\",null,\"1\",\"2\",\"1\",null,\"2\",\"1\"],\"type\":\"histogram\",\"xaxis\":\"x6\",\"yaxis\":\"y6\"},{\"marker\":{\"color\":\"darkgray\"},\"name\":\"age_diagnosis_5_categories\",\"showlegend\":false,\"texttemplate\":\"%{y}\",\"x\":[\"2\",\"Not Applicable\",\"Not Applicable\",\"Not Applicable\",\"Not Applicable\",\"Not Applicable\",\"Not Applicable\",\"Not Applicable\",\"Not Applicable\",\"Not Applicable\",\"Not Applicable\",\"Not Applicable\",\"Not Applicable\",null,\"3\",\"2\",\"3\",\"1\",\"3\",\"3\",\"3\",\"1\",\"3\",\"1\",\"2\",\"1\",\"3\",\"3\",\"3\",\"2\",null,null,\"3\",\"1\",\"1\",\"3\",\"3\",null,\"2\",\"3\",\"1\",null,\"3\",\"1\"],\"type\":\"histogram\",\"xaxis\":\"x7\",\"yaxis\":\"y7\"},{\"marker\":{\"color\":\"darkgray\"},\"name\":\"time_since_diagnosis_2_categories\",\"showlegend\":false,\"texttemplate\":\"%{y}\",\"x\":[\"1\",\"Not Applicable\",\"Not Applicable\",\"Not Applicable\",\"Not Applicable\",\"Not Applicable\",\"Not Applicable\",\"Not Applicable\",\"Not Applicable\",\"Not Applicable\",\"Not Applicable\",\"Not Applicable\",\"Not Applicable\",\"2\",\"1\",\"2\",\"2\",\"2\",\"2\",\"2\",\"2\",\"2\",\"2\",\"2\",\"2\",\"1\",\"2\",\"2\",\"2\",\"2\",null,\"2\",\"2\",\"1\",\"2\",\"2\",\"2\",\"2\",\"1\",\"2\",\"2\",null,\"2\",\"1\"],\"type\":\"histogram\",\"xaxis\":\"x8\",\"yaxis\":\"y8\"},{\"marker\":{\"color\":\"darkgray\"},\"name\":\"time_since_diagnosis_5_categories\",\"showlegend\":false,\"texttemplate\":\"%{y}\",\"x\":[\"1\",\"Not Applicable\",\"Not Applicable\",\"Not Applicable\",\"Not Applicable\",\"Not Applicable\",\"Not Applicable\",\"Not Applicable\",\"Not Applicable\",\"Not Applicable\",\"Not Applicable\",\"Not Applicable\",\"Not Applicable\",\"3\",\"2\",\"3\",\"5\",\"3\",\"5\",\"3\",\"3\",\"5\",\"4\",\"5\",\"3\",\"1\",\"4\",\"4\",\"5\",\"5\",null,\"3\",\"5\",\"2\",\"5\",\"5\",\"5\",\"5\",\"1\",\"5\",\"3\",null,\"3\",\"1\"],\"type\":\"histogram\",\"xaxis\":\"x9\",\"yaxis\":\"y9\"},{\"marker\":{\"color\":\"darkgray\"},\"name\":\"lupus_nephritis\",\"showlegend\":false,\"texttemplate\":\"%{y}\",\"x\":[\"0\",\"Not Applicable\",\"Not Applicable\",\"Not Applicable\",\"Not Applicable\",\"Not Applicable\",\"Not Applicable\",\"Not Applicable\",\"Not Applicable\",\"Not Applicable\",\"Not Applicable\",\"Not Applicable\",\"Not Applicable\",\"0\",\"1\",\"0\",\"1\",\"0\",\"1\",\"1\",\"1\",\"1\",\"1\",\"1\",\"1\",\"0\",\"1\",\"0\",\"0\",\"1\",\"0\",\"1\",\"1\",\"1\",\"1\",\"0\",\"0\",\"1\",\"1\",\"0\",\"1\",null,\"1\",\"1\"],\"type\":\"histogram\",\"xaxis\":\"x10\",\"yaxis\":\"y10\"},{\"marker\":{\"color\":\"darkgray\"},\"name\":\"SLEDAI-2K\",\"showlegend\":false,\"texttemplate\":\"%{y}\",\"x\":[null,\"Not Applicable\",\"Not Applicable\",\"Not Applicable\",\"Not Applicable\",\"Not Applicable\",\"Not Applicable\",\"Not Applicable\",\"Not Applicable\",\"Not Applicable\",\"Not Applicable\",\"Not Applicable\",\"Not Applicable\",\"3\",\"1\",\"2\",\"3\",\"2\",\"1\",\"3\",\"2\",\"2\",\"3\",\"1\",\"3\",\"3\",\"3\",\"2\",\"1\",\"3\",\"3\",\"2\",\"2\",\"1\",\"3\",\"3\",\"4\",\"3\",\"1\",\"3\",\"2\",\"3\",\"1\",\"1\"],\"type\":\"histogram\",\"xaxis\":\"x11\",\"yaxis\":\"y11\"},{\"marker\":{\"color\":\"darkgray\"},\"name\":\"GLP-1\",\"showlegend\":false,\"texttemplate\":\"%{y}\",\"x\":[\"1\",\"2\",null,null,null,null,\"2\",\"1\",\"1\",\"1\",\"1\",\"1\",\"1\",\"1\",\"2\",\"2\",\"1\",\"1\",\"2\",\"1\",\"1\",\"2\",\"2\",\"2\",\"2\",\"2\",\"2\",\"1\",\"2\",null,\"1\",\"1\",\"2\",\"1\",\"2\",\"2\",null,null,\"2\",null,\"1\",\"1\",\"1\",\"2\"],\"type\":\"histogram\",\"xaxis\":\"x12\",\"yaxis\":\"y12\"},{\"marker\":{\"color\":\"darkgray\"},\"name\":\"sCD14\",\"showlegend\":false,\"texttemplate\":\"%{y}\",\"x\":[\"2\",null,null,null,null,null,\"1\",\"2\",\"1\",\"1\",\"1\",\"1\",null,\"3\",\"4\",\"3\",\"4\",\"4\",\"4\",\"3\",\"1\",\"2\",\"4\",null,\"2\",\"2\",\"4\",\"3\",\"2\",null,\"3\",\"3\",null,null,\"4\",\"3\",\"4\",null,\"1\",null,\"1\",\"2\",\"3\",\"2\"],\"type\":\"histogram\",\"xaxis\":\"x13\",\"yaxis\":\"y13\"},{\"marker\":{\"color\":\"darkgray\"},\"name\":\"IFABP\",\"showlegend\":false,\"texttemplate\":\"%{y}\",\"x\":[\"4\",\"4\",\"4\",\"2\",\"2\",\"1\",\"1\",\"2\",\"3\",\"2\",\"2\",\"1\",\"3\",\"1\",\"1\",\"4\",\"4\",\"1\",\"4\",\"3\",\"1\",\"1\",\"4\",\"4\",\"2\",\"2\",\"3\",\"3\",\"1\",\"4\",\"2\",\"2\",\"4\",\"3\",\"4\",\"1\",\"3\",\"1\",\"2\",\"1\",\"2\",\"3\",\"4\",\"3\"],\"type\":\"histogram\",\"xaxis\":\"x14\",\"yaxis\":\"y14\"},{\"marker\":{\"color\":\"darkgray\"},\"name\":\"Zonulin_05\",\"showlegend\":false,\"texttemplate\":\"%{y}\",\"x\":[\"1\",\"1\",null,null,null,null,\"1\",\"1\",\"1\",\"1\",\"1\",\"1\",\"1\",\"1\",\"2\",\"2\",\"1\",\"2\",\"1\",\"1\",\"2\",\"2\",\"1\",\"2\",\"1\",null,\"2\",\"1\",\"2\",null,\"2\",null,\"2\",\"1\",\"2\",\"1\",\"1\",null,\"1\",null,\"1\",\"1\",\"2\",\"1\"],\"type\":\"histogram\",\"xaxis\":\"x15\",\"yaxis\":\"y15\"},{\"marker\":{\"color\":\"darkgray\"},\"name\":\"Zonulin_1\",\"showlegend\":false,\"texttemplate\":\"%{y}\",\"x\":[\"3\",\"3\",null,null,null,null,\"3\",\"3\",\"3\",\"3\",\"3\",\"3\",\"3\",\"3\",\"4\",\"4\",\"3\",\"3\",\"3\",\"3\",\"3\",\"3\",\"3\",\"4\",\"3\",null,\"4\",\"3\",\"4\",null,\"3\",null,\"4\",\"3\",\"4\",\"3\",\"3\",null,\"3\",null,\"3\",\"3\",\"4\",\"3\"],\"type\":\"histogram\",\"xaxis\":\"x16\",\"yaxis\":\"y16\"},{\"marker\":{\"color\":\"darkgray\"},\"name\":\"physical_activity_IPAQ\",\"showlegend\":false,\"texttemplate\":\"%{y}\",\"x\":[\"2\",\"2\",\"1\",\"3\",\"2\",\"2\",\"2\",\"3\",\"1\",\"1\",\"1\",\"2\",\"2\",\"2\",\"2\",\"2\",\"1\",\"3\",\"3\",\"3\",\"2\",\"2\",\"3\",\"3\",\"2\",null,\"2\",\"3\",\"3\",\"3\",\"1\",\"1\",\"1\",null,\"1\",\"2\",\"3\",\"3\",\"2\",\"3\",\"2\",\"2\",\"2\",null],\"type\":\"histogram\",\"xaxis\":\"x17\",\"yaxis\":\"y17\"},{\"marker\":{\"color\":\"darkgray\"},\"name\":\"sitting_time_2_categories\",\"showlegend\":false,\"texttemplate\":\"%{y}\",\"x\":[\"2\",\"1\",\"2\",\"2\",\"2\",\"2\",\"1\",\"1\",\"1\",\"1\",\"1\",\"1\",\"2\",\"2\",\"2\",\"2\",\"1\",\"2\",\"1\",\"2\",\"2\",\"2\",\"2\",\"1\",\"2\",null,\"1\",\"1\",\"2\",\"2\",\"1\",\"1\",\"1\",null,\"1\",\"1\",\"1\",\"2\",\"2\",\"2\",\"2\",\"2\",\"1\",null],\"type\":\"histogram\",\"xaxis\":\"x18\",\"yaxis\":\"y18\"},{\"marker\":{\"color\":\"darkgray\"},\"name\":\"sitting_time_4_categories\",\"showlegend\":false,\"texttemplate\":\"%{y}\",\"x\":[\"3\",\"1\",\"3\",\"3\",\"3\",\"4\",\"1\",\"1\",\"1\",\"2\",\"1\",\"1\",\"3\",\"4\",\"4\",\"4\",\"1\",\"3\",\"2\",\"3\",\"3\",\"4\",\"4\",\"2\",\"4\",null,\"2\",\"2\",\"3\",\"4\",\"1\",\"2\",\"2\",null,\"1\",\"1\",\"2\",\"4\",\"4\",\"3\",\"3\",\"3\",\"1\",null],\"type\":\"histogram\",\"xaxis\":\"x19\",\"yaxis\":\"y19\"},{\"marker\":{\"color\":\"darkgray\"},\"name\":\"mediterranean_diet_2_categories\",\"showlegend\":false,\"texttemplate\":\"%{y}\",\"x\":[\"1\",\"2\",\"2\",\"1\",\"1\",\"1\",\"1\",\"1\",\"2\",\"2\",\"2\",\"2\",\"1\",\"1\",\"1\",\"1\",\"1\",\"1\",\"1\",\"1\",\"1\",\"1\",\"1\",\"1\",\"1\",\"2\",\"1\",\"1\",\"1\",\"1\",\"1\",\"2\",\"1\",\"2\",\"1\",\"1\",\"1\",\"1\",\"1\",\"1\",\"1\",\"1\",\"1\",\"2\"],\"type\":\"histogram\",\"xaxis\":\"x20\",\"yaxis\":\"y20\"},{\"marker\":{\"color\":\"darkgray\"},\"name\":\"mediterranean_diet_3_categories\",\"showlegend\":false,\"texttemplate\":\"%{y}\",\"x\":[\"2\",\"3\",\"3\",\"2\",\"2\",\"2\",\"2\",\"2\",\"3\",\"3\",\"3\",\"3\",\"1\",\"2\",\"1\",\"2\",\"2\",\"1\",\"1\",\"2\",\"1\",\"1\",\"2\",\"1\",\"2\",\"3\",\"1\",\"1\",\"1\",\"1\",\"2\",\"3\",\"1\",\"3\",\"2\",\"1\",\"1\",\"1\",\"2\",\"1\",\"2\",\"2\",\"1\",\"3\"],\"type\":\"histogram\",\"xaxis\":\"x21\",\"yaxis\":\"y21\"},{\"marker\":{\"color\":\"darkgray\"},\"name\":\"bristol_scale\",\"showlegend\":false,\"texttemplate\":\"%{y}\",\"x\":[\"3\",\"2\",\"4\",\"4\",\"4\",\"4\",\"4\",\"4\",\"4\",\"4\",\"4\",\"4\",\"4\",null,\"3\",\"4\",\"6\",\"1\",\"1\",\"7\",\"3\",\"4\",\"4\",\"3\",\"1\",\"4\",\"6\",\"6\",\"4\",\"1\",\"2\",\"4\",\"6\",\"3\",\"5\",\"3\",\"5\",\"2\",\"4\",\"3\",\"2\",\"3\",\"3\",\"3\"],\"type\":\"histogram\",\"xaxis\":\"x22\",\"yaxis\":\"y22\"},{\"marker\":{\"color\":\"darkgray\"},\"name\":\"Fasting\",\"showlegend\":false,\"texttemplate\":\"%{y}\",\"x\":[\"2\",\"2\",\"1\",\"1\",\"1\",\"2\",\"1\",\"1\",\"2\",\"2\",\"1\",\"2\",\"1\",\"2\",\"1\",\"1\",\"2\",\"2\",\"1\",\"2\",\"1\",\"1\",\"1\",\"1\",\"1\",\"2\",\"1\",\"2\",\"1\",\"2\",\"1\",\"1\",\"1\",\"2\",null,\"1\",\"2\",\"2\",\"2\",\"2\",\"2\",\"2\",\"1\",\"2\"],\"type\":\"histogram\",\"xaxis\":\"x23\",\"yaxis\":\"y23\"},{\"marker\":{\"color\":\"darkgray\"},\"name\":\"Sleep\",\"showlegend\":false,\"texttemplate\":\"%{y}\",\"x\":[\"2\",\"2\",\"1\",\"1\",\"2\",\"1\",\"1\",\"1\",\"2\",\"1\",\"1\",\"2\",\"1\",\"2\",\"1\",\"2\",\"2\",\"2\",\"2\",\"2\",\"1\",\"1\",\"1\",\"2\",\"1\",\"2\",\"2\",\"1\",\"2\",\"2\",\"1\",\"2\",\"2\",\"2\",null,\"1\",\"2\",\"2\",\"2\",\"2\",\"2\",\"2\",\"1\",\"2\"],\"type\":\"histogram\",\"xaxis\":\"x24\",\"yaxis\":\"y24\"},{\"marker\":{\"color\":\"darkgray\"},\"name\":\"fat_mass_bodpod\",\"showlegend\":false,\"texttemplate\":\"%{y}\",\"x\":[\"5\",null,\"3\",\"4\",\"2\",\"2\",\"4\",\"2\",\"3\",\"3\",\"4\",\"2\",\"2\",\"3\",\"4\",\"3\",\"2\",\"1\",\"1\",\"4\",\"2\",\"1\",\"2\",\"1\",\"2\",\"2\",null,null,null,\"2\",\"3\",\"5\",\"1\",\"4\",\"3\",\"1\",\"1\",\"2\",\"2\",\"1\",\"3\",\"2\",\"3\",\"2\"],\"type\":\"histogram\",\"xaxis\":\"x25\",\"yaxis\":\"y25\"},{\"marker\":{\"color\":\"darkgray\"},\"name\":\"fat_mass_BIA\",\"showlegend\":false,\"texttemplate\":\"%{y}\",\"x\":[\"4\",null,\"3\",\"4\",\"3\",\"3\",\"4\",\"1\",\"3\",\"2\",\"4\",\"3\",\"2\",\"3\",\"3\",\"3\",\"2\",\"2\",\"1\",\"4\",\"2\",\"2\",\"3\",\"1\",\"2\",\"3\",null,null,\"1\",\"4\",\"3\",\"4\",\"1\",\"4\",\"2\",\"1\",\"1\",\"4\",\"2\",\"1\",\"4\",\"2\",\"4\",\"4\"],\"type\":\"histogram\",\"xaxis\":\"x26\",\"yaxis\":\"y26\"},{\"marker\":{\"color\":\"darkgray\"},\"name\":\"waist_circumference\",\"showlegend\":false,\"texttemplate\":\"%{y}\",\"x\":[\"1\",null,\"1\",\"1\",\"1\",\"1\",\"1\",\"2\",\"1\",\"1\",\"1\",\"1\",\"1\",\"2\",\"1\",\"1\",\"1\",\"3\",\"3\",\"1\",\"3\",\"3\",\"2\",\"3\",\"2\",\"3\",\"1\",\"1\",\"2\",\"1\",\"1\",\"1\",\"2\",\"1\",\"1\",\"2\",\"3\",\"1\",\"2\",\"3\",\"1\",\"1\",\"1\",\"2\"],\"type\":\"histogram\",\"xaxis\":\"x27\",\"yaxis\":\"y27\"},{\"marker\":{\"color\":\"darkgray\"},\"name\":\"BMI\",\"showlegend\":false,\"texttemplate\":\"%{y}\",\"x\":[\"1\",null,\"1\",\"0\",\"1\",\"1\",\"1\",\"2\",\"1\",\"1\",\"0\",\"2\",\"1\",\"1\",\"1\",\"1\",\"1\",\"3\",\"3\",\"1\",\"2\",\"2\",\"1\",\"3\",\"1\",\"3\",\"1\",\"1\",\"2\",\"1\",\"1\",\"1\",\"2\",\"1\",\"1\",\"1\",\"3\",\"1\",\"2\",\"2\",\"1\",\"1\",\"1\",\"2\"],\"type\":\"histogram\",\"xaxis\":\"x28\",\"yaxis\":\"y28\"},{\"marker\":{\"color\":\"darkgray\"},\"name\":\"waist_to_hip\",\"showlegend\":false,\"texttemplate\":\"%{y}\",\"x\":[null,null,\"1\",\"1\",\"1\",\"1\",null,\"1\",\"1\",\"1\",\"1\",\"1\",\"1\",null,\"1\",null,\"1\",null,\"2\",\"1\",\"1\",\"1\",\"2\",\"2\",null,null,\"1\",\"1\",\"1\",\"1\",\"1\",null,\"2\",null,\"1\",\"1\",\"2\",\"1\",null,\"2\",null,\"1\",\"1\",null],\"type\":\"histogram\",\"xaxis\":\"x29\",\"yaxis\":\"y29\"},{\"marker\":{\"color\":\"darkgray\"},\"name\":\"hip_to_hight\",\"showlegend\":false,\"texttemplate\":\"%{y}\",\"x\":[\"1\",null,\"1\",\"1\",\"1\",\"1\",\"1\",\"2\",\"1\",\"1\",\"1\",\"1\",\"1\",\"2\",\"1\",\"1\",\"1\",\"2\",\"2\",\"1\",\"2\",\"2\",\"2\",\"2\",\"2\",\"2\",\"1\",\"1\",\"2\",\"1\",\"1\",\"2\",\"2\",\"1\",\"1\",\"1\",\"2\",\"1\",\"2\",\"2\",\"1\",\"1\",\"1\",\"1\"],\"type\":\"histogram\",\"xaxis\":\"x30\",\"yaxis\":\"y30\"}],                        {\"template\":{\"data\":{\"histogram2dcontour\":[{\"type\":\"histogram2dcontour\",\"colorbar\":{\"outlinewidth\":0,\"ticks\":\"\"},\"colorscale\":[[0.0,\"#0d0887\"],[0.1111111111111111,\"#46039f\"],[0.2222222222222222,\"#7201a8\"],[0.3333333333333333,\"#9c179e\"],[0.4444444444444444,\"#bd3786\"],[0.5555555555555556,\"#d8576b\"],[0.6666666666666666,\"#ed7953\"],[0.7777777777777778,\"#fb9f3a\"],[0.8888888888888888,\"#fdca26\"],[1.0,\"#f0f921\"]]}],\"choropleth\":[{\"type\":\"choropleth\",\"colorbar\":{\"outlinewidth\":0,\"ticks\":\"\"}}],\"histogram2d\":[{\"type\":\"histogram2d\",\"colorbar\":{\"outlinewidth\":0,\"ticks\":\"\"},\"colorscale\":[[0.0,\"#0d0887\"],[0.1111111111111111,\"#46039f\"],[0.2222222222222222,\"#7201a8\"],[0.3333333333333333,\"#9c179e\"],[0.4444444444444444,\"#bd3786\"],[0.5555555555555556,\"#d8576b\"],[0.6666666666666666,\"#ed7953\"],[0.7777777777777778,\"#fb9f3a\"],[0.8888888888888888,\"#fdca26\"],[1.0,\"#f0f921\"]]}],\"heatmap\":[{\"type\":\"heatmap\",\"colorbar\":{\"outlinewidth\":0,\"ticks\":\"\"},\"colorscale\":[[0.0,\"#0d0887\"],[0.1111111111111111,\"#46039f\"],[0.2222222222222222,\"#7201a8\"],[0.3333333333333333,\"#9c179e\"],[0.4444444444444444,\"#bd3786\"],[0.5555555555555556,\"#d8576b\"],[0.6666666666666666,\"#ed7953\"],[0.7777777777777778,\"#fb9f3a\"],[0.8888888888888888,\"#fdca26\"],[1.0,\"#f0f921\"]]}],\"heatmapgl\":[{\"type\":\"heatmapgl\",\"colorbar\":{\"outlinewidth\":0,\"ticks\":\"\"},\"colorscale\":[[0.0,\"#0d0887\"],[0.1111111111111111,\"#46039f\"],[0.2222222222222222,\"#7201a8\"],[0.3333333333333333,\"#9c179e\"],[0.4444444444444444,\"#bd3786\"],[0.5555555555555556,\"#d8576b\"],[0.6666666666666666,\"#ed7953\"],[0.7777777777777778,\"#fb9f3a\"],[0.8888888888888888,\"#fdca26\"],[1.0,\"#f0f921\"]]}],\"contourcarpet\":[{\"type\":\"contourcarpet\",\"colorbar\":{\"outlinewidth\":0,\"ticks\":\"\"}}],\"contour\":[{\"type\":\"contour\",\"colorbar\":{\"outlinewidth\":0,\"ticks\":\"\"},\"colorscale\":[[0.0,\"#0d0887\"],[0.1111111111111111,\"#46039f\"],[0.2222222222222222,\"#7201a8\"],[0.3333333333333333,\"#9c179e\"],[0.4444444444444444,\"#bd3786\"],[0.5555555555555556,\"#d8576b\"],[0.6666666666666666,\"#ed7953\"],[0.7777777777777778,\"#fb9f3a\"],[0.8888888888888888,\"#fdca26\"],[1.0,\"#f0f921\"]]}],\"surface\":[{\"type\":\"surface\",\"colorbar\":{\"outlinewidth\":0,\"ticks\":\"\"},\"colorscale\":[[0.0,\"#0d0887\"],[0.1111111111111111,\"#46039f\"],[0.2222222222222222,\"#7201a8\"],[0.3333333333333333,\"#9c179e\"],[0.4444444444444444,\"#bd3786\"],[0.5555555555555556,\"#d8576b\"],[0.6666666666666666,\"#ed7953\"],[0.7777777777777778,\"#fb9f3a\"],[0.8888888888888888,\"#fdca26\"],[1.0,\"#f0f921\"]]}],\"mesh3d\":[{\"type\":\"mesh3d\",\"colorbar\":{\"outlinewidth\":0,\"ticks\":\"\"}}],\"scatter\":[{\"fillpattern\":{\"fillmode\":\"overlay\",\"size\":10,\"solidity\":0.2},\"type\":\"scatter\"}],\"parcoords\":[{\"type\":\"parcoords\",\"line\":{\"colorbar\":{\"outlinewidth\":0,\"ticks\":\"\"}}}],\"scatterpolargl\":[{\"type\":\"scatterpolargl\",\"marker\":{\"colorbar\":{\"outlinewidth\":0,\"ticks\":\"\"}}}],\"bar\":[{\"error_x\":{\"color\":\"#2a3f5f\"},\"error_y\":{\"color\":\"#2a3f5f\"},\"marker\":{\"line\":{\"color\":\"#E5ECF6\",\"width\":0.5},\"pattern\":{\"fillmode\":\"overlay\",\"size\":10,\"solidity\":0.2}},\"type\":\"bar\"}],\"scattergeo\":[{\"type\":\"scattergeo\",\"marker\":{\"colorbar\":{\"outlinewidth\":0,\"ticks\":\"\"}}}],\"scatterpolar\":[{\"type\":\"scatterpolar\",\"marker\":{\"colorbar\":{\"outlinewidth\":0,\"ticks\":\"\"}}}],\"histogram\":[{\"marker\":{\"pattern\":{\"fillmode\":\"overlay\",\"size\":10,\"solidity\":0.2}},\"type\":\"histogram\"}],\"scattergl\":[{\"type\":\"scattergl\",\"marker\":{\"colorbar\":{\"outlinewidth\":0,\"ticks\":\"\"}}}],\"scatter3d\":[{\"type\":\"scatter3d\",\"line\":{\"colorbar\":{\"outlinewidth\":0,\"ticks\":\"\"}},\"marker\":{\"colorbar\":{\"outlinewidth\":0,\"ticks\":\"\"}}}],\"scattermapbox\":[{\"type\":\"scattermapbox\",\"marker\":{\"colorbar\":{\"outlinewidth\":0,\"ticks\":\"\"}}}],\"scatterternary\":[{\"type\":\"scatterternary\",\"marker\":{\"colorbar\":{\"outlinewidth\":0,\"ticks\":\"\"}}}],\"scattercarpet\":[{\"type\":\"scattercarpet\",\"marker\":{\"colorbar\":{\"outlinewidth\":0,\"ticks\":\"\"}}}],\"carpet\":[{\"aaxis\":{\"endlinecolor\":\"#2a3f5f\",\"gridcolor\":\"white\",\"linecolor\":\"white\",\"minorgridcolor\":\"white\",\"startlinecolor\":\"#2a3f5f\"},\"baxis\":{\"endlinecolor\":\"#2a3f5f\",\"gridcolor\":\"white\",\"linecolor\":\"white\",\"minorgridcolor\":\"white\",\"startlinecolor\":\"#2a3f5f\"},\"type\":\"carpet\"}],\"table\":[{\"cells\":{\"fill\":{\"color\":\"#EBF0F8\"},\"line\":{\"color\":\"white\"}},\"header\":{\"fill\":{\"color\":\"#C8D4E3\"},\"line\":{\"color\":\"white\"}},\"type\":\"table\"}],\"barpolar\":[{\"marker\":{\"line\":{\"color\":\"#E5ECF6\",\"width\":0.5},\"pattern\":{\"fillmode\":\"overlay\",\"size\":10,\"solidity\":0.2}},\"type\":\"barpolar\"}],\"pie\":[{\"automargin\":true,\"type\":\"pie\"}]},\"layout\":{\"autotypenumbers\":\"strict\",\"colorway\":[\"#636efa\",\"#EF553B\",\"#00cc96\",\"#ab63fa\",\"#FFA15A\",\"#19d3f3\",\"#FF6692\",\"#B6E880\",\"#FF97FF\",\"#FECB52\"],\"font\":{\"color\":\"#2a3f5f\"},\"hovermode\":\"closest\",\"hoverlabel\":{\"align\":\"left\"},\"paper_bgcolor\":\"white\",\"plot_bgcolor\":\"#E5ECF6\",\"polar\":{\"bgcolor\":\"#E5ECF6\",\"angularaxis\":{\"gridcolor\":\"white\",\"linecolor\":\"white\",\"ticks\":\"\"},\"radialaxis\":{\"gridcolor\":\"white\",\"linecolor\":\"white\",\"ticks\":\"\"}},\"ternary\":{\"bgcolor\":\"#E5ECF6\",\"aaxis\":{\"gridcolor\":\"white\",\"linecolor\":\"white\",\"ticks\":\"\"},\"baxis\":{\"gridcolor\":\"white\",\"linecolor\":\"white\",\"ticks\":\"\"},\"caxis\":{\"gridcolor\":\"white\",\"linecolor\":\"white\",\"ticks\":\"\"}},\"coloraxis\":{\"colorbar\":{\"outlinewidth\":0,\"ticks\":\"\"}},\"colorscale\":{\"sequential\":[[0.0,\"#0d0887\"],[0.1111111111111111,\"#46039f\"],[0.2222222222222222,\"#7201a8\"],[0.3333333333333333,\"#9c179e\"],[0.4444444444444444,\"#bd3786\"],[0.5555555555555556,\"#d8576b\"],[0.6666666666666666,\"#ed7953\"],[0.7777777777777778,\"#fb9f3a\"],[0.8888888888888888,\"#fdca26\"],[1.0,\"#f0f921\"]],\"sequentialminus\":[[0.0,\"#0d0887\"],[0.1111111111111111,\"#46039f\"],[0.2222222222222222,\"#7201a8\"],[0.3333333333333333,\"#9c179e\"],[0.4444444444444444,\"#bd3786\"],[0.5555555555555556,\"#d8576b\"],[0.6666666666666666,\"#ed7953\"],[0.7777777777777778,\"#fb9f3a\"],[0.8888888888888888,\"#fdca26\"],[1.0,\"#f0f921\"]],\"diverging\":[[0,\"#8e0152\"],[0.1,\"#c51b7d\"],[0.2,\"#de77ae\"],[0.3,\"#f1b6da\"],[0.4,\"#fde0ef\"],[0.5,\"#f7f7f7\"],[0.6,\"#e6f5d0\"],[0.7,\"#b8e186\"],[0.8,\"#7fbc41\"],[0.9,\"#4d9221\"],[1,\"#276419\"]]},\"xaxis\":{\"gridcolor\":\"white\",\"linecolor\":\"white\",\"ticks\":\"\",\"title\":{\"standoff\":15},\"zerolinecolor\":\"white\",\"automargin\":true,\"zerolinewidth\":2},\"yaxis\":{\"gridcolor\":\"white\",\"linecolor\":\"white\",\"ticks\":\"\",\"title\":{\"standoff\":15},\"zerolinecolor\":\"white\",\"automargin\":true,\"zerolinewidth\":2},\"scene\":{\"xaxis\":{\"backgroundcolor\":\"#E5ECF6\",\"gridcolor\":\"white\",\"linecolor\":\"white\",\"showbackground\":true,\"ticks\":\"\",\"zerolinecolor\":\"white\",\"gridwidth\":2},\"yaxis\":{\"backgroundcolor\":\"#E5ECF6\",\"gridcolor\":\"white\",\"linecolor\":\"white\",\"showbackground\":true,\"ticks\":\"\",\"zerolinecolor\":\"white\",\"gridwidth\":2},\"zaxis\":{\"backgroundcolor\":\"#E5ECF6\",\"gridcolor\":\"white\",\"linecolor\":\"white\",\"showbackground\":true,\"ticks\":\"\",\"zerolinecolor\":\"white\",\"gridwidth\":2}},\"shapedefaults\":{\"line\":{\"color\":\"#2a3f5f\"}},\"annotationdefaults\":{\"arrowcolor\":\"#2a3f5f\",\"arrowhead\":0,\"arrowwidth\":1},\"geo\":{\"bgcolor\":\"white\",\"landcolor\":\"#E5ECF6\",\"subunitcolor\":\"white\",\"showland\":true,\"showlakes\":true,\"lakecolor\":\"white\"},\"title\":{\"x\":0.05},\"mapbox\":{\"style\":\"light\"}}},\"xaxis\":{\"anchor\":\"y\",\"domain\":[0.0,0.45]},\"yaxis\":{\"anchor\":\"x\",\"domain\":[0.9644444444444444,1.0]},\"xaxis2\":{\"anchor\":\"y2\",\"domain\":[0.55,1.0]},\"yaxis2\":{\"anchor\":\"x2\",\"domain\":[0.9644444444444444,1.0]},\"xaxis3\":{\"anchor\":\"y3\",\"domain\":[0.0,0.45]},\"yaxis3\":{\"anchor\":\"x3\",\"domain\":[0.8955555555555557,0.9311111111111112]},\"xaxis4\":{\"anchor\":\"y4\",\"domain\":[0.55,1.0]},\"yaxis4\":{\"anchor\":\"x4\",\"domain\":[0.8955555555555557,0.9311111111111112]},\"xaxis5\":{\"anchor\":\"y5\",\"domain\":[0.0,0.45]},\"yaxis5\":{\"anchor\":\"x5\",\"domain\":[0.8266666666666667,0.8622222222222222]},\"xaxis6\":{\"anchor\":\"y6\",\"domain\":[0.55,1.0]},\"yaxis6\":{\"anchor\":\"x6\",\"domain\":[0.8266666666666667,0.8622222222222222]},\"xaxis7\":{\"anchor\":\"y7\",\"domain\":[0.0,0.45]},\"yaxis7\":{\"anchor\":\"x7\",\"domain\":[0.7577777777777778,0.7933333333333333]},\"xaxis8\":{\"anchor\":\"y8\",\"domain\":[0.55,1.0]},\"yaxis8\":{\"anchor\":\"x8\",\"domain\":[0.7577777777777778,0.7933333333333333]},\"xaxis9\":{\"anchor\":\"y9\",\"domain\":[0.0,0.45]},\"yaxis9\":{\"anchor\":\"x9\",\"domain\":[0.6888888888888889,0.7244444444444444]},\"xaxis10\":{\"anchor\":\"y10\",\"domain\":[0.55,1.0]},\"yaxis10\":{\"anchor\":\"x10\",\"domain\":[0.6888888888888889,0.7244444444444444]},\"xaxis11\":{\"anchor\":\"y11\",\"domain\":[0.0,0.45]},\"yaxis11\":{\"anchor\":\"x11\",\"domain\":[0.62,0.6555555555555556]},\"xaxis12\":{\"anchor\":\"y12\",\"domain\":[0.55,1.0]},\"yaxis12\":{\"anchor\":\"x12\",\"domain\":[0.62,0.6555555555555556]},\"xaxis13\":{\"anchor\":\"y13\",\"domain\":[0.0,0.45]},\"yaxis13\":{\"anchor\":\"x13\",\"domain\":[0.5511111111111111,0.5866666666666667]},\"xaxis14\":{\"anchor\":\"y14\",\"domain\":[0.55,1.0]},\"yaxis14\":{\"anchor\":\"x14\",\"domain\":[0.5511111111111111,0.5866666666666667]},\"xaxis15\":{\"anchor\":\"y15\",\"domain\":[0.0,0.45]},\"yaxis15\":{\"anchor\":\"x15\",\"domain\":[0.4822222222222222,0.5177777777777778]},\"xaxis16\":{\"anchor\":\"y16\",\"domain\":[0.55,1.0]},\"yaxis16\":{\"anchor\":\"x16\",\"domain\":[0.4822222222222222,0.5177777777777778]},\"xaxis17\":{\"anchor\":\"y17\",\"domain\":[0.0,0.45]},\"yaxis17\":{\"anchor\":\"x17\",\"domain\":[0.41333333333333333,0.4488888888888889]},\"xaxis18\":{\"anchor\":\"y18\",\"domain\":[0.55,1.0]},\"yaxis18\":{\"anchor\":\"x18\",\"domain\":[0.41333333333333333,0.4488888888888889]},\"xaxis19\":{\"anchor\":\"y19\",\"domain\":[0.0,0.45]},\"yaxis19\":{\"anchor\":\"x19\",\"domain\":[0.34444444444444444,0.38]},\"xaxis20\":{\"anchor\":\"y20\",\"domain\":[0.55,1.0]},\"yaxis20\":{\"anchor\":\"x20\",\"domain\":[0.34444444444444444,0.38]},\"xaxis21\":{\"anchor\":\"y21\",\"domain\":[0.0,0.45]},\"yaxis21\":{\"anchor\":\"x21\",\"domain\":[0.27555555555555555,0.3111111111111111]},\"xaxis22\":{\"anchor\":\"y22\",\"domain\":[0.55,1.0]},\"yaxis22\":{\"anchor\":\"x22\",\"domain\":[0.27555555555555555,0.3111111111111111]},\"xaxis23\":{\"anchor\":\"y23\",\"domain\":[0.0,0.45]},\"yaxis23\":{\"anchor\":\"x23\",\"domain\":[0.20666666666666667,0.24222222222222223]},\"xaxis24\":{\"anchor\":\"y24\",\"domain\":[0.55,1.0]},\"yaxis24\":{\"anchor\":\"x24\",\"domain\":[0.20666666666666667,0.24222222222222223]},\"xaxis25\":{\"anchor\":\"y25\",\"domain\":[0.0,0.45]},\"yaxis25\":{\"anchor\":\"x25\",\"domain\":[0.13777777777777778,0.17333333333333334]},\"xaxis26\":{\"anchor\":\"y26\",\"domain\":[0.55,1.0]},\"yaxis26\":{\"anchor\":\"x26\",\"domain\":[0.13777777777777778,0.17333333333333334]},\"xaxis27\":{\"anchor\":\"y27\",\"domain\":[0.0,0.45]},\"yaxis27\":{\"anchor\":\"x27\",\"domain\":[0.06888888888888889,0.10444444444444445]},\"xaxis28\":{\"anchor\":\"y28\",\"domain\":[0.55,1.0]},\"yaxis28\":{\"anchor\":\"x28\",\"domain\":[0.06888888888888889,0.10444444444444445]},\"xaxis29\":{\"anchor\":\"y29\",\"domain\":[0.0,0.45]},\"yaxis29\":{\"anchor\":\"x29\",\"domain\":[0.0,0.035555555555555556]},\"xaxis30\":{\"anchor\":\"y30\",\"domain\":[0.55,1.0]},\"yaxis30\":{\"anchor\":\"x30\",\"domain\":[0.0,0.035555555555555556]},\"annotations\":[{\"font\":{\"size\":16},\"showarrow\":false,\"text\":\"condition\",\"x\":0.225,\"xanchor\":\"center\",\"xref\":\"paper\",\"y\":1.0,\"yanchor\":\"bottom\",\"yref\":\"paper\"},{\"font\":{\"size\":16},\"showarrow\":false,\"text\":\"gender\",\"x\":0.775,\"xanchor\":\"center\",\"xref\":\"paper\",\"y\":1.0,\"yanchor\":\"bottom\",\"yref\":\"paper\"},{\"font\":{\"size\":16},\"showarrow\":false,\"text\":\"ethnicity\",\"x\":0.225,\"xanchor\":\"center\",\"xref\":\"paper\",\"y\":0.9311111111111112,\"yanchor\":\"bottom\",\"yref\":\"paper\"},{\"font\":{\"size\":16},\"showarrow\":false,\"text\":\"age_2_categories\",\"x\":0.775,\"xanchor\":\"center\",\"xref\":\"paper\",\"y\":0.9311111111111112,\"yanchor\":\"bottom\",\"yref\":\"paper\"},{\"font\":{\"size\":16},\"showarrow\":false,\"text\":\"age_5_categories\",\"x\":0.225,\"xanchor\":\"center\",\"xref\":\"paper\",\"y\":0.8622222222222222,\"yanchor\":\"bottom\",\"yref\":\"paper\"},{\"font\":{\"size\":16},\"showarrow\":false,\"text\":\"age_diagnosis_2_categories\",\"x\":0.775,\"xanchor\":\"center\",\"xref\":\"paper\",\"y\":0.8622222222222222,\"yanchor\":\"bottom\",\"yref\":\"paper\"},{\"font\":{\"size\":16},\"showarrow\":false,\"text\":\"age_diagnosis_5_categories\",\"x\":0.225,\"xanchor\":\"center\",\"xref\":\"paper\",\"y\":0.7933333333333333,\"yanchor\":\"bottom\",\"yref\":\"paper\"},{\"font\":{\"size\":16},\"showarrow\":false,\"text\":\"time_since_diagnosis_2_categories\",\"x\":0.775,\"xanchor\":\"center\",\"xref\":\"paper\",\"y\":0.7933333333333333,\"yanchor\":\"bottom\",\"yref\":\"paper\"},{\"font\":{\"size\":16},\"showarrow\":false,\"text\":\"time_since_diagnosis_5_categories\",\"x\":0.225,\"xanchor\":\"center\",\"xref\":\"paper\",\"y\":0.7244444444444444,\"yanchor\":\"bottom\",\"yref\":\"paper\"},{\"font\":{\"size\":16},\"showarrow\":false,\"text\":\"lupus_nephritis\",\"x\":0.775,\"xanchor\":\"center\",\"xref\":\"paper\",\"y\":0.7244444444444444,\"yanchor\":\"bottom\",\"yref\":\"paper\"},{\"font\":{\"size\":16},\"showarrow\":false,\"text\":\"SLEDAI-2K\",\"x\":0.225,\"xanchor\":\"center\",\"xref\":\"paper\",\"y\":0.6555555555555556,\"yanchor\":\"bottom\",\"yref\":\"paper\"},{\"font\":{\"size\":16},\"showarrow\":false,\"text\":\"GLP-1\",\"x\":0.775,\"xanchor\":\"center\",\"xref\":\"paper\",\"y\":0.6555555555555556,\"yanchor\":\"bottom\",\"yref\":\"paper\"},{\"font\":{\"size\":16},\"showarrow\":false,\"text\":\"sCD14\",\"x\":0.225,\"xanchor\":\"center\",\"xref\":\"paper\",\"y\":0.5866666666666667,\"yanchor\":\"bottom\",\"yref\":\"paper\"},{\"font\":{\"size\":16},\"showarrow\":false,\"text\":\"IFABP\",\"x\":0.775,\"xanchor\":\"center\",\"xref\":\"paper\",\"y\":0.5866666666666667,\"yanchor\":\"bottom\",\"yref\":\"paper\"},{\"font\":{\"size\":16},\"showarrow\":false,\"text\":\"Zonulin_05\",\"x\":0.225,\"xanchor\":\"center\",\"xref\":\"paper\",\"y\":0.5177777777777778,\"yanchor\":\"bottom\",\"yref\":\"paper\"},{\"font\":{\"size\":16},\"showarrow\":false,\"text\":\"Zonulin_1\",\"x\":0.775,\"xanchor\":\"center\",\"xref\":\"paper\",\"y\":0.5177777777777778,\"yanchor\":\"bottom\",\"yref\":\"paper\"},{\"font\":{\"size\":16},\"showarrow\":false,\"text\":\"physical_activity_IPAQ\",\"x\":0.225,\"xanchor\":\"center\",\"xref\":\"paper\",\"y\":0.4488888888888889,\"yanchor\":\"bottom\",\"yref\":\"paper\"},{\"font\":{\"size\":16},\"showarrow\":false,\"text\":\"sitting_time_2_categories\",\"x\":0.775,\"xanchor\":\"center\",\"xref\":\"paper\",\"y\":0.4488888888888889,\"yanchor\":\"bottom\",\"yref\":\"paper\"},{\"font\":{\"size\":16},\"showarrow\":false,\"text\":\"sitting_time_4_categories\",\"x\":0.225,\"xanchor\":\"center\",\"xref\":\"paper\",\"y\":0.38,\"yanchor\":\"bottom\",\"yref\":\"paper\"},{\"font\":{\"size\":16},\"showarrow\":false,\"text\":\"mediterranean_diet_2_categories\",\"x\":0.775,\"xanchor\":\"center\",\"xref\":\"paper\",\"y\":0.38,\"yanchor\":\"bottom\",\"yref\":\"paper\"},{\"font\":{\"size\":16},\"showarrow\":false,\"text\":\"mediterranean_diet_3_categories\",\"x\":0.225,\"xanchor\":\"center\",\"xref\":\"paper\",\"y\":0.3111111111111111,\"yanchor\":\"bottom\",\"yref\":\"paper\"},{\"font\":{\"size\":16},\"showarrow\":false,\"text\":\"bristol_scale\",\"x\":0.775,\"xanchor\":\"center\",\"xref\":\"paper\",\"y\":0.3111111111111111,\"yanchor\":\"bottom\",\"yref\":\"paper\"},{\"font\":{\"size\":16},\"showarrow\":false,\"text\":\"Fasting\",\"x\":0.225,\"xanchor\":\"center\",\"xref\":\"paper\",\"y\":0.24222222222222223,\"yanchor\":\"bottom\",\"yref\":\"paper\"},{\"font\":{\"size\":16},\"showarrow\":false,\"text\":\"Sleep\",\"x\":0.775,\"xanchor\":\"center\",\"xref\":\"paper\",\"y\":0.24222222222222223,\"yanchor\":\"bottom\",\"yref\":\"paper\"},{\"font\":{\"size\":16},\"showarrow\":false,\"text\":\"fat_mass_bodpod\",\"x\":0.225,\"xanchor\":\"center\",\"xref\":\"paper\",\"y\":0.17333333333333334,\"yanchor\":\"bottom\",\"yref\":\"paper\"},{\"font\":{\"size\":16},\"showarrow\":false,\"text\":\"fat_mass_BIA\",\"x\":0.775,\"xanchor\":\"center\",\"xref\":\"paper\",\"y\":0.17333333333333334,\"yanchor\":\"bottom\",\"yref\":\"paper\"},{\"font\":{\"size\":16},\"showarrow\":false,\"text\":\"waist_circumference\",\"x\":0.225,\"xanchor\":\"center\",\"xref\":\"paper\",\"y\":0.10444444444444445,\"yanchor\":\"bottom\",\"yref\":\"paper\"},{\"font\":{\"size\":16},\"showarrow\":false,\"text\":\"BMI\",\"x\":0.775,\"xanchor\":\"center\",\"xref\":\"paper\",\"y\":0.10444444444444445,\"yanchor\":\"bottom\",\"yref\":\"paper\"},{\"font\":{\"size\":16},\"showarrow\":false,\"text\":\"waist_to_hip\",\"x\":0.225,\"xanchor\":\"center\",\"xref\":\"paper\",\"y\":0.035555555555555556,\"yanchor\":\"bottom\",\"yref\":\"paper\"},{\"font\":{\"size\":16},\"showarrow\":false,\"text\":\"hip_to_hight\",\"x\":0.775,\"xanchor\":\"center\",\"xref\":\"paper\",\"y\":0.035555555555555556,\"yanchor\":\"bottom\",\"yref\":\"paper\"}]},                        {\"responsive\": true}                    ).then(function(){\n",
       "                            \n",
       "var gd = document.getElementById('9af9a95f-089d-4ad5-aee0-9f5869dcdac6');\n",
       "var x = new MutationObserver(function (mutations, observer) {{\n",
       "        var display = window.getComputedStyle(gd).display;\n",
       "        if (!display || display === 'none') {{\n",
       "            console.log([gd, 'removed!']);\n",
       "            Plotly.purge(gd);\n",
       "            observer.disconnect();\n",
       "        }}\n",
       "}});\n",
       "\n",
       "// Listen for the removal of the full notebook cells\n",
       "var notebookContainer = gd.closest('#notebook-container');\n",
       "if (notebookContainer) {{\n",
       "    x.observe(notebookContainer, {childList: true});\n",
       "}}\n",
       "\n",
       "// Listen for the clearing of the current output cell\n",
       "var outputEl = gd.closest('.output');\n",
       "if (outputEl) {{\n",
       "    x.observe(outputEl, {childList: true});\n",
       "}}\n",
       "\n",
       "                        })                };                });            </script>        </div>"
      ]
     },
     "metadata": {},
     "output_type": "display_data"
    },
    {
     "data": {
      "text/plain": [
       "'Histograms.html'"
      ]
     },
     "execution_count": 33,
     "metadata": {},
     "output_type": "execute_result"
    }
   ],
   "source": [
    "fig=make_subplots(rows=15, cols=2, subplot_titles=df.columns)\n",
    "\n",
    "row=1\n",
    "col=1\n",
    "\n",
    "for column in df.columns:\n",
    "    print(column)\n",
    "    print(row, col)\n",
    "\n",
    "    fig.add_trace(go.Histogram(x=df[column], showlegend=False, name=column, texttemplate=\"%{y}\", marker_color='darkgray'),row=row, col=col)\n",
    "    if col == 2:\n",
    "        col = 1\n",
    "        row += 1\n",
    "    else:\n",
    "        col += 1\n",
    "fig.show()\n",
    "plot(fig, filename='Histograms.html', auto_open=False)"
   ]
  },
  {
   "cell_type": "code",
   "execution_count": null,
   "id": "f7fbac77",
   "metadata": {},
   "outputs": [],
   "source": []
  }
 ],
 "metadata": {
  "kernelspec": {
   "display_name": "Python 3",
   "language": "python",
   "name": "python3"
  },
  "language_info": {
   "codemirror_mode": {
    "name": "ipython",
    "version": 3
   },
   "file_extension": ".py",
   "mimetype": "text/x-python",
   "name": "python",
   "nbconvert_exporter": "python",
   "pygments_lexer": "ipython3",
   "version": "3.7.10"
  }
 },
 "nbformat": 4,
 "nbformat_minor": 5
}
